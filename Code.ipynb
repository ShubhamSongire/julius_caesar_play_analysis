{
 "cells": [
  {
   "cell_type": "markdown",
   "id": "2a015514",
   "metadata": {},
   "source": [
    "# Load dataset"
   ]
  },
  {
   "cell_type": "code",
   "execution_count": 1,
   "id": "06bc2863",
   "metadata": {},
   "outputs": [],
   "source": [
    "import re\n",
    "with open(r\"juliuscaesar.txt\", 'r') as file:\n",
    "    data = \"\".join(line for line in file if not line.isspace())"
   ]
  },
  {
   "cell_type": "markdown",
   "id": "9bff4b57",
   "metadata": {},
   "source": [
    "## Find Characters by Capital letters"
   ]
  },
  {
   "cell_type": "code",
   "execution_count": 2,
   "id": "ce17d9b4",
   "metadata": {},
   "outputs": [
    {
     "data": {
      "text/plain": [
       "['\\nTHIS EBOOK',\n",
       " 'PROJECT',\n",
       " 'GUTENBERG',\n",
       " 'EARLY',\n",
       " 'FILES',\n",
       " 'PRODUCED',\n",
       " '\\nTIME WHEN',\n",
       " 'PROOFING',\n",
       " 'METHODS',\n",
       " 'TOOLS',\n",
       " 'WERE',\n",
       " 'WELL',\n",
       " 'DEVELOPED',\n",
       " 'THERE',\n",
       " 'IMPROVED',\n",
       " 'EDITION',\n",
       " 'THIS',\n",
       " 'TITLE',\n",
       " 'WHICH',\n",
       " 'VIEWED']"
      ]
     },
     "execution_count": 2,
     "metadata": {},
     "output_type": "execute_result"
    }
   ],
   "source": [
    "chars = re.findall(r\"\\n[A-Z]{4,}.[A-Z]{4,}|[A-Z]{4,}\", data)\n",
    "chars[:20]"
   ]
  },
  {
   "cell_type": "markdown",
   "id": "b0aa355d",
   "metadata": {},
   "source": [
    "# Take most occuring words as Characters"
   ]
  },
  {
   "cell_type": "code",
   "execution_count": 3,
   "id": "7d993859",
   "metadata": {
    "scrolled": true
   },
   "outputs": [
    {
     "name": "stdout",
     "output_type": "stream",
     "text": [
      "Counter({'BRUTUS': 196, 'CASSIUS': 140, 'CITIZEN': 68, 'ANTONY': 52, 'CAESAR': 42, 'CASCA': 40, 'SECOND': 26, 'LUCIUS': 25, 'FIRST': 23, 'MESSALA': 22, 'CINNA': 21, 'OCTAVIUS': 20, 'SCENE': 19, 'COPIES': 18, 'ELECTRONIC': 17, 'PORTIA': 17, 'THIRD': 17, 'FOURTH': 16, 'THIS': 13, 'DECIUS': 13, 'PROJECT': 11, 'GUTENBERG': 11, 'COMPLETE': 11, 'CHARGES': 11, 'LUCILIUS': 11, 'TITINIUS': 11, 'SERVANT': 11, 'LIBRARY': 10, 'PROVIDED': 10, 'SUCH': 10, 'ETEXT': 10, 'VERSION': 9, 'WORKS': 9, 'WILLIAM': 9, '\\nSHAKESPEARE': 9, 'COPYRIGHT': 9, 'WORLD': 9, 'LONG': 9, 'YOUR': 9, 'OTHERS': 9, 'PERSONAL': 9, 'ONLY': 9, '\\nDISTRIBUTED': 9, 'USED': 9, 'PROHIBITED': 9, 'COMMERCIAL': 9, 'DOWNLOAD': 9, 'TIME': 9, 'MEMBERSHIP': 9, 'CLITUS': 9, 'SOOTHSAYER': 9, 'DISTRIBUTED': 8, 'UNIVERSITY': 8, 'CARNEGIE': 7, 'MELLON': 7, '\\nWITH PERMISSION': 7, 'MACHINE': 7, 'READABLE': 7, '\\nCOMMERCIALLY': 7, 'DISTRIBUTION': 7, 'INCLUDES': 7, '\\nSERVICE THAT': 7, 'CALPURNIA': 7, 'MARULLUS': 7, 'VARRO': 7, 'COMMONER': 7, 'SOLDIER': 7, 'LIGARIUS': 6, 'METELLUS': 6, 'FLAVIUS': 6, 'PINDARUS': 6, 'TREBONIUS': 5, 'CICERO': 5, 'CLAUDIO': 5, 'STRATO': 5, 'LEPIDUS': 4, 'POPILIUS': 4, 'CATO': 4, 'VOLUMNIUS': 4, 'ARTEMIDORUS': 4, 'DARDANIUS': 4, 'LIMITED': 3, 'DAMAGES': 3, 'POET': 3, 'GHOST': 3, 'WITH': 2, 'PERMISSION': 2, '\\nMACHINE READABLE': 2, 'COMMERCIALLY': 2, '\\nDISTRIBUTION INCLUDES': 2, 'SERVICE': 2, 'THAT': 2, 'UNDER': 2, 'MADE': 2, 'ENCOURAGED': 2, 'GIVE': 2, 'SMALL': 2, 'PRINT': 2, 'SHAKESPEARE': 2, 'ASCII': 2, 'WARRANTY': 2, 'HAVE': 2, 'INCLUDING': 2, 'EVEN': 2, 'JULIUS': 2, 'PUBLIUS': 2, '\\nTHIS EBOOK': 1, 'EARLY': 1, 'FILES': 1, 'PRODUCED': 1, '\\nTIME WHEN': 1, 'PROOFING': 1, 'METHODS': 1, 'TOOLS': 1, 'WERE': 1, 'WELL': 1, 'DEVELOPED': 1, 'THERE': 1, 'IMPROVED': 1, 'EDITION': 1, 'TITLE': 1, 'WHICH': 1, 'VIEWED': 1, 'EBOOK': 1, 'CDROMS': 1, 'HOWEVER': 1, 'NEITHER': 1, 'SHAREWARE': 1, 'PUBLIC': 1, 'DOMAIN': 1, 'FUTURE': 1, 'CONDITIONS': 1, 'PRESENTATION': 1, 'ACCESS': 1, 'MATERIAL': 1, 'AWAY': 1, 'ANYONE': 1, 'LIKE': 1, 'ALLOWED': 1, '\\nTHIS ELECTRONIC': 1, '\\nCARNEGIE MELLON': 1, 'LICENSE': 1, 'DISTRIBUTE': 1, 'EITHER': 1, 'EBCDIC': 1, 'DISCLAIMER': 1, 'REMEDIES': 1, 'NEGLIGENCE': 1, 'STRICT': 1, 'LIABILITY': 1, 'BREACH': 1, 'CONTRACT': 1, 'INDIRECT': 1, 'CONSEQUENTIAL': 1, 'PUNITIVE': 1, 'INCIDENTAL': 1, 'NOTICE': 1, 'POSSIBILITY': 1, '\\nTHIS ETEXT': 1, 'OTHERWISE': 1, 'OTHER': 1, '\\nWARRANTIES': 1, 'KIND': 1, 'EXPRESS': 1, 'IMPLIED': 1, 'MEDIUM': 1, 'WARRANTIES': 1, 'MERCHANTABILITY': 1, 'FITNESS': 1, '\\nPARTICULAR PURPOSE': 1, 'INDEMNITY': 1, 'WHAT': 1, 'WANT': 1, 'SEND': 1, 'MONEY': 1, 'WRITE': 1, 'TRAGEDY': 1, 'MARK': 1, 'MARCUS': 1, 'CAIUS': 1, 'CIMBER': 1, 'LENA': 1, 'CITIZENS': 1, 'MESSENGER': 1})\n"
     ]
    }
   ],
   "source": [
    "from collections import Counter\n",
    "count  = Counter(chars)\n",
    "print(count)"
   ]
  },
  {
   "cell_type": "code",
   "execution_count": 4,
   "id": "aa15d65a",
   "metadata": {
    "scrolled": false
   },
   "outputs": [
    {
     "name": "stdout",
     "output_type": "stream",
     "text": [
      "CAESAR\n",
      "ANTONY\n",
      "BRUTUS\n",
      "CASSIUS\n",
      "CASCA\n",
      "CITIZEN\n"
     ]
    }
   ],
   "source": [
    "characters = []\n",
    "for key, value in count.items():\n",
    "    if value>30:\n",
    "        print(key)\n",
    "        characters.append(key)"
   ]
  },
  {
   "cell_type": "code",
   "execution_count": 5,
   "id": "799074d9",
   "metadata": {
    "scrolled": true
   },
   "outputs": [
    {
     "data": {
      "text/plain": [
       "['CAESAR', 'ANTONY', 'BRUTUS', 'CASSIUS', 'CASCA', 'CITIZEN']"
      ]
     },
     "execution_count": 5,
     "metadata": {},
     "output_type": "execute_result"
    }
   ],
   "source": [
    "characters"
   ]
  },
  {
   "cell_type": "markdown",
   "id": "6a6f5d28",
   "metadata": {},
   "source": [
    "# Add few more characters"
   ]
  },
  {
   "cell_type": "code",
   "execution_count": 6,
   "id": "e34f536a",
   "metadata": {},
   "outputs": [],
   "source": [
    "characters.extend([\"FLAVIUS\", \"MARULLUS\"])"
   ]
  },
  {
   "cell_type": "code",
   "execution_count": 7,
   "id": "292b65e8",
   "metadata": {},
   "outputs": [
    {
     "data": {
      "text/plain": [
       "['CAESAR',\n",
       " 'ANTONY',\n",
       " 'BRUTUS',\n",
       " 'CASSIUS',\n",
       " 'CASCA',\n",
       " 'CITIZEN',\n",
       " 'FLAVIUS',\n",
       " 'MARULLUS']"
      ]
     },
     "execution_count": 7,
     "metadata": {},
     "output_type": "execute_result"
    }
   ],
   "source": [
    "characters"
   ]
  },
  {
   "cell_type": "markdown",
   "id": "cc1d27f2",
   "metadata": {},
   "source": [
    "# Split dataset by Character names"
   ]
  },
  {
   "cell_type": "code",
   "execution_count": 8,
   "id": "59e0a626",
   "metadata": {},
   "outputs": [
    {
     "data": {
      "text/plain": [
       "[' WAS ONE OF ',\n",
       " ' ',\n",
       " \"'S \",\n",
       " ' ',\n",
       " ' ',\n",
       " ' AT A',\n",
       " ' ',\n",
       " ' ',\n",
       " ' AND ',\n",
       " ' ',\n",
       " ' NOT ',\n",
       " ' ',\n",
       " '. ',\n",
       " '\\nIS AN ',\n",
       " ' ',\n",
       " ' OF ',\n",
       " ' ',\n",
       " ' ',\n",
       " ' MAY BE ',\n",
       " ' AS ']"
      ]
     },
     "execution_count": 8,
     "metadata": {},
     "output_type": "execute_result"
    }
   ],
   "source": [
    "charss = re.split(r\"\\n[A-Z]{4,}.[A-Z]{4,}|[A-Z]{4,}\", data)\n",
    "charss.pop(0)\n",
    "charss[:20]"
   ]
  },
  {
   "cell_type": "markdown",
   "id": "45c2b7e4",
   "metadata": {},
   "source": [
    "# removing new row characters"
   ]
  },
  {
   "cell_type": "code",
   "execution_count": 9,
   "id": "068eb997",
   "metadata": {},
   "outputs": [],
   "source": [
    "for i in range(len(charss)):\n",
    "    charss[i] = re.sub(\"\\n\", \"\", charss[i])"
   ]
  },
  {
   "cell_type": "markdown",
   "id": "11d089c0",
   "metadata": {},
   "source": [
    "# removing extra spaces"
   ]
  },
  {
   "cell_type": "code",
   "execution_count": 10,
   "id": "c206289d",
   "metadata": {},
   "outputs": [],
   "source": [
    "for i in range(len(charss)):\n",
    "    charss[i] = re.sub(\"\\s{2,}\", \"\", charss[i])"
   ]
  },
  {
   "cell_type": "code",
   "execution_count": 11,
   "id": "4a0085d8",
   "metadata": {
    "scrolled": true
   },
   "outputs": [
    {
     "data": {
      "text/plain": [
       "[' WAS ONE OF ',\n",
       " ' ',\n",
       " \"'S \",\n",
       " ' ',\n",
       " ' ',\n",
       " ' AT A',\n",
       " ' ',\n",
       " ' ',\n",
       " ' AND ',\n",
       " ' ',\n",
       " ' NOT ',\n",
       " ' ',\n",
       " '. ',\n",
       " 'IS AN ',\n",
       " ' ',\n",
       " ' OF ',\n",
       " ' ',\n",
       " ' ',\n",
       " ' MAY BE ',\n",
       " ' AS ']"
      ]
     },
     "execution_count": 11,
     "metadata": {},
     "output_type": "execute_result"
    }
   ],
   "source": [
    "charss[:20]"
   ]
  },
  {
   "cell_type": "code",
   "execution_count": 12,
   "id": "6e9e5fa3",
   "metadata": {
    "scrolled": true
   },
   "outputs": [
    {
     "data": {
      "text/plain": [
       "1416"
      ]
     },
     "execution_count": 12,
     "metadata": {},
     "output_type": "execute_result"
    }
   ],
   "source": [
    "len(charss)"
   ]
  },
  {
   "cell_type": "markdown",
   "id": "f017b30d",
   "metadata": {},
   "source": [
    "# Find characters for dataset"
   ]
  },
  {
   "cell_type": "code",
   "execution_count": 13,
   "id": "e526cc94",
   "metadata": {},
   "outputs": [
    {
     "data": {
      "text/plain": [
       "['\\nTHIS EBOOK',\n",
       " 'PROJECT',\n",
       " 'GUTENBERG',\n",
       " 'EARLY',\n",
       " 'FILES',\n",
       " 'PRODUCED',\n",
       " '\\nTIME WHEN',\n",
       " 'PROOFING',\n",
       " 'METHODS',\n",
       " 'TOOLS',\n",
       " 'WERE',\n",
       " 'WELL',\n",
       " 'DEVELOPED',\n",
       " 'THERE',\n",
       " 'IMPROVED',\n",
       " 'EDITION',\n",
       " 'THIS',\n",
       " 'TITLE',\n",
       " 'WHICH',\n",
       " 'VIEWED']"
      ]
     },
     "execution_count": 13,
     "metadata": {},
     "output_type": "execute_result"
    }
   ],
   "source": [
    "charsss = re.findall(r\"\\n[A-Z]{4,}.[A-Z]{4,}|[A-Z]{4,}\", data)\n",
    "charsss[:20]"
   ]
  },
  {
   "cell_type": "code",
   "execution_count": 14,
   "id": "5e654560",
   "metadata": {},
   "outputs": [
    {
     "data": {
      "text/plain": [
       "1416"
      ]
     },
     "execution_count": 14,
     "metadata": {},
     "output_type": "execute_result"
    }
   ],
   "source": [
    "len(charsss)"
   ]
  },
  {
   "cell_type": "code",
   "execution_count": 15,
   "id": "c32d1cf7",
   "metadata": {},
   "outputs": [],
   "source": [
    "for i in range(len(charsss)):\n",
    "    charsss[i] = re.sub(\"\\n\", \"\", charsss[i])"
   ]
  },
  {
   "cell_type": "code",
   "execution_count": 16,
   "id": "043996e5",
   "metadata": {},
   "outputs": [
    {
     "data": {
      "text/plain": [
       "['THIS EBOOK',\n",
       " 'PROJECT',\n",
       " 'GUTENBERG',\n",
       " 'EARLY',\n",
       " 'FILES',\n",
       " 'PRODUCED',\n",
       " 'TIME WHEN',\n",
       " 'PROOFING',\n",
       " 'METHODS',\n",
       " 'TOOLS',\n",
       " 'WERE',\n",
       " 'WELL',\n",
       " 'DEVELOPED',\n",
       " 'THERE',\n",
       " 'IMPROVED',\n",
       " 'EDITION',\n",
       " 'THIS',\n",
       " 'TITLE',\n",
       " 'WHICH',\n",
       " 'VIEWED']"
      ]
     },
     "execution_count": 16,
     "metadata": {},
     "output_type": "execute_result"
    }
   ],
   "source": [
    "charsss[:20]"
   ]
  },
  {
   "cell_type": "code",
   "execution_count": 17,
   "id": "0f1931fa",
   "metadata": {},
   "outputs": [
    {
     "data": {
      "text/plain": [
       "24"
      ]
     },
     "execution_count": 17,
     "metadata": {},
     "output_type": "execute_result"
    }
   ],
   "source": [
    "len(\". Sirrah, give place.\\n  \")"
   ]
  },
  {
   "cell_type": "markdown",
   "id": "ed191e2e",
   "metadata": {},
   "source": [
    "# Making dataset from two lists"
   ]
  },
  {
   "cell_type": "code",
   "execution_count": 18,
   "id": "3f0850d6",
   "metadata": {},
   "outputs": [],
   "source": [
    "new = list(zip(charsss, charss))"
   ]
  },
  {
   "cell_type": "code",
   "execution_count": 19,
   "id": "935842be",
   "metadata": {},
   "outputs": [
    {
     "data": {
      "text/plain": [
       "[('THIS EBOOK', ' WAS ONE OF '),\n",
       " ('PROJECT', ' '),\n",
       " ('GUTENBERG', \"'S \"),\n",
       " ('EARLY', ' '),\n",
       " ('FILES', ' '),\n",
       " ('PRODUCED', ' AT A'),\n",
       " ('TIME WHEN', ' '),\n",
       " ('PROOFING', ' '),\n",
       " ('METHODS', ' AND '),\n",
       " ('TOOLS', ' '),\n",
       " ('WERE', ' NOT '),\n",
       " ('WELL', ' '),\n",
       " ('DEVELOPED', '. '),\n",
       " ('THERE', 'IS AN '),\n",
       " ('IMPROVED', ' '),\n",
       " ('EDITION', ' OF '),\n",
       " ('THIS', ' '),\n",
       " ('TITLE', ' '),\n",
       " ('WHICH', ' MAY BE '),\n",
       " ('VIEWED', ' AS ')]"
      ]
     },
     "execution_count": 19,
     "metadata": {},
     "output_type": "execute_result"
    }
   ],
   "source": [
    "new[:20]"
   ]
  },
  {
   "cell_type": "code",
   "execution_count": 20,
   "id": "38b1512c",
   "metadata": {},
   "outputs": [],
   "source": [
    "import pandas as pd\n",
    "df = pd.DataFrame(new, columns=['Character', \"Sentence\"])"
   ]
  },
  {
   "cell_type": "code",
   "execution_count": 21,
   "id": "d1e774df",
   "metadata": {},
   "outputs": [
    {
     "data": {
      "text/html": [
       "<div>\n",
       "<style scoped>\n",
       "    .dataframe tbody tr th:only-of-type {\n",
       "        vertical-align: middle;\n",
       "    }\n",
       "\n",
       "    .dataframe tbody tr th {\n",
       "        vertical-align: top;\n",
       "    }\n",
       "\n",
       "    .dataframe thead th {\n",
       "        text-align: right;\n",
       "    }\n",
       "</style>\n",
       "<table border=\"1\" class=\"dataframe\">\n",
       "  <thead>\n",
       "    <tr style=\"text-align: right;\">\n",
       "      <th></th>\n",
       "      <th>Character</th>\n",
       "      <th>Sentence</th>\n",
       "    </tr>\n",
       "  </thead>\n",
       "  <tbody>\n",
       "    <tr>\n",
       "      <th>1411</th>\n",
       "      <td>SERVICE THAT</td>\n",
       "      <td></td>\n",
       "    </tr>\n",
       "    <tr>\n",
       "      <th>1412</th>\n",
       "      <td>CHARGES</td>\n",
       "      <td>FOR</td>\n",
       "    </tr>\n",
       "    <tr>\n",
       "      <th>1413</th>\n",
       "      <td>DOWNLOAD</td>\n",
       "      <td></td>\n",
       "    </tr>\n",
       "    <tr>\n",
       "      <th>1414</th>\n",
       "      <td>TIME</td>\n",
       "      <td>OR FOR</td>\n",
       "    </tr>\n",
       "    <tr>\n",
       "      <th>1415</th>\n",
       "      <td>MEMBERSHIP</td>\n",
       "      <td>.&gt;&gt;End of this Etext of The Complete Works of ...</td>\n",
       "    </tr>\n",
       "  </tbody>\n",
       "</table>\n",
       "</div>"
      ],
      "text/plain": [
       "         Character                                           Sentence\n",
       "1411  SERVICE THAT                                                   \n",
       "1412       CHARGES                                               FOR \n",
       "1413      DOWNLOAD                                                   \n",
       "1414          TIME                                            OR FOR \n",
       "1415    MEMBERSHIP  .>>End of this Etext of The Complete Works of ..."
      ]
     },
     "execution_count": 21,
     "metadata": {},
     "output_type": "execute_result"
    }
   ],
   "source": [
    "df.tail()"
   ]
  },
  {
   "cell_type": "code",
   "execution_count": 22,
   "id": "c117485c",
   "metadata": {
    "scrolled": true
   },
   "outputs": [
    {
     "data": {
      "text/plain": [
       "['CAESAR',\n",
       " 'ANTONY',\n",
       " 'BRUTUS',\n",
       " 'CASSIUS',\n",
       " 'CASCA',\n",
       " 'CITIZEN',\n",
       " 'FLAVIUS',\n",
       " 'MARULLUS']"
      ]
     },
     "execution_count": 22,
     "metadata": {},
     "output_type": "execute_result"
    }
   ],
   "source": [
    "characters"
   ]
  },
  {
   "cell_type": "markdown",
   "id": "a0ac3f7c",
   "metadata": {},
   "source": [
    "# Removing non character conversations"
   ]
  },
  {
   "cell_type": "code",
   "execution_count": 23,
   "id": "d3a4f7fa",
   "metadata": {
    "scrolled": true
   },
   "outputs": [],
   "source": [
    "for i in range(len(df)):\n",
    "        if df[\"Character\"][i] not in characters:\n",
    "            df.drop(i, axis=0, inplace=True)"
   ]
  },
  {
   "cell_type": "code",
   "execution_count": 24,
   "id": "8abab0ed",
   "metadata": {},
   "outputs": [
    {
     "data": {
      "text/plain": [
       "array(['Character', 'Sentence'], dtype=object)"
      ]
     },
     "execution_count": 24,
     "metadata": {},
     "output_type": "execute_result"
    }
   ],
   "source": [
    "df.columns.values"
   ]
  },
  {
   "cell_type": "code",
   "execution_count": 25,
   "id": "98e23907",
   "metadata": {
    "scrolled": true
   },
   "outputs": [
    {
     "data": {
      "text/html": [
       "<div>\n",
       "<style scoped>\n",
       "    .dataframe tbody tr th:only-of-type {\n",
       "        vertical-align: middle;\n",
       "    }\n",
       "\n",
       "    .dataframe tbody tr th {\n",
       "        vertical-align: top;\n",
       "    }\n",
       "\n",
       "    .dataframe thead th {\n",
       "        text-align: right;\n",
       "    }\n",
       "</style>\n",
       "<table border=\"1\" class=\"dataframe\">\n",
       "  <thead>\n",
       "    <tr style=\"text-align: right;\">\n",
       "      <th></th>\n",
       "      <th>Character</th>\n",
       "      <th>Sentence</th>\n",
       "    </tr>\n",
       "  </thead>\n",
       "  <tbody>\n",
       "    <tr>\n",
       "      <th>237</th>\n",
       "      <td>CAESAR</td>\n",
       "      <td>by William ShakespeareDramatis Personae</td>\n",
       "    </tr>\n",
       "    <tr>\n",
       "      <th>239</th>\n",
       "      <td>CAESAR</td>\n",
       "      <td>, Roman statesman and general</td>\n",
       "    </tr>\n",
       "    <tr>\n",
       "      <th>242</th>\n",
       "      <td>ANTONY</td>\n",
       "      <td>, general and friend of Caesar, a Triumvir aft...</td>\n",
       "    </tr>\n",
       "    <tr>\n",
       "      <th>245</th>\n",
       "      <td>BRUTUS</td>\n",
       "      <td>, leader of the conspiracy against Caesar</td>\n",
       "    </tr>\n",
       "    <tr>\n",
       "      <th>246</th>\n",
       "      <td>CASSIUS</td>\n",
       "      <td>, instigator of the conspiracy</td>\n",
       "    </tr>\n",
       "  </tbody>\n",
       "</table>\n",
       "</div>"
      ],
      "text/plain": [
       "    Character                                           Sentence\n",
       "237    CAESAR            by William ShakespeareDramatis Personae\n",
       "239    CAESAR                      , Roman statesman and general\n",
       "242    ANTONY  , general and friend of Caesar, a Triumvir aft...\n",
       "245    BRUTUS          , leader of the conspiracy against Caesar\n",
       "246   CASSIUS                     , instigator of the conspiracy"
      ]
     },
     "execution_count": 25,
     "metadata": {},
     "output_type": "execute_result"
    }
   ],
   "source": [
    "df.head()"
   ]
  },
  {
   "cell_type": "markdown",
   "id": "96b3d666",
   "metadata": {},
   "source": [
    "## Created CSV for data till this point"
   ]
  },
  {
   "cell_type": "code",
   "execution_count": 26,
   "id": "7a8f2d6f",
   "metadata": {},
   "outputs": [],
   "source": [
    "df.to_csv(\"data.csv\", index=False, )"
   ]
  },
  {
   "cell_type": "markdown",
   "id": "22e73d5a",
   "metadata": {},
   "source": [
    "## Again load above file to continue from this cell"
   ]
  },
  {
   "cell_type": "code",
   "execution_count": 27,
   "id": "be35429f",
   "metadata": {},
   "outputs": [],
   "source": [
    "import pandas as pd\n",
    "data = pd.read_csv(\"data.csv\")"
   ]
  },
  {
   "cell_type": "code",
   "execution_count": 28,
   "id": "6ff7d9ee",
   "metadata": {
    "scrolled": true
   },
   "outputs": [
    {
     "data": {
      "text/html": [
       "<div>\n",
       "<style scoped>\n",
       "    .dataframe tbody tr th:only-of-type {\n",
       "        vertical-align: middle;\n",
       "    }\n",
       "\n",
       "    .dataframe tbody tr th {\n",
       "        vertical-align: top;\n",
       "    }\n",
       "\n",
       "    .dataframe thead th {\n",
       "        text-align: right;\n",
       "    }\n",
       "</style>\n",
       "<table border=\"1\" class=\"dataframe\">\n",
       "  <thead>\n",
       "    <tr style=\"text-align: right;\">\n",
       "      <th></th>\n",
       "      <th>Character</th>\n",
       "      <th>Sentence</th>\n",
       "    </tr>\n",
       "  </thead>\n",
       "  <tbody>\n",
       "    <tr>\n",
       "      <th>0</th>\n",
       "      <td>CAESAR</td>\n",
       "      <td>by William ShakespeareDramatis Personae</td>\n",
       "    </tr>\n",
       "    <tr>\n",
       "      <th>1</th>\n",
       "      <td>CAESAR</td>\n",
       "      <td>, Roman statesman and general</td>\n",
       "    </tr>\n",
       "    <tr>\n",
       "      <th>2</th>\n",
       "      <td>ANTONY</td>\n",
       "      <td>, general and friend of Caesar, a Triumvir aft...</td>\n",
       "    </tr>\n",
       "    <tr>\n",
       "      <th>3</th>\n",
       "      <td>BRUTUS</td>\n",
       "      <td>, leader of the conspiracy against Caesar</td>\n",
       "    </tr>\n",
       "    <tr>\n",
       "      <th>4</th>\n",
       "      <td>CASSIUS</td>\n",
       "      <td>, instigator of the conspiracy</td>\n",
       "    </tr>\n",
       "    <tr>\n",
       "      <th>...</th>\n",
       "      <td>...</td>\n",
       "      <td>...</td>\n",
       "    </tr>\n",
       "    <tr>\n",
       "      <th>546</th>\n",
       "      <td>BRUTUS</td>\n",
       "      <td>. Nay I am sure it is, Volumnius.Thou seest th...</td>\n",
       "    </tr>\n",
       "    <tr>\n",
       "      <th>547</th>\n",
       "      <td>BRUTUS</td>\n",
       "      <td>. Farewell to you, and you, and you, Volumnius...</td>\n",
       "    </tr>\n",
       "    <tr>\n",
       "      <th>548</th>\n",
       "      <td>BRUTUS</td>\n",
       "      <td>. Hence! I will follow.Exeunt Clitus, Dardaniu...</td>\n",
       "    </tr>\n",
       "    <tr>\n",
       "      <th>549</th>\n",
       "      <td>BRUTUS</td>\n",
       "      <td>. Farewell, good Strato.Runs on his sword.Caes...</td>\n",
       "    </tr>\n",
       "    <tr>\n",
       "      <th>550</th>\n",
       "      <td>ANTONY</td>\n",
       "      <td>. This was the noblest Roman of them all.All t...</td>\n",
       "    </tr>\n",
       "  </tbody>\n",
       "</table>\n",
       "<p>551 rows × 2 columns</p>\n",
       "</div>"
      ],
      "text/plain": [
       "    Character                                           Sentence\n",
       "0      CAESAR            by William ShakespeareDramatis Personae\n",
       "1      CAESAR                      , Roman statesman and general\n",
       "2      ANTONY  , general and friend of Caesar, a Triumvir aft...\n",
       "3      BRUTUS          , leader of the conspiracy against Caesar\n",
       "4     CASSIUS                     , instigator of the conspiracy\n",
       "..        ...                                                ...\n",
       "546    BRUTUS  . Nay I am sure it is, Volumnius.Thou seest th...\n",
       "547    BRUTUS  . Farewell to you, and you, and you, Volumnius...\n",
       "548    BRUTUS  . Hence! I will follow.Exeunt Clitus, Dardaniu...\n",
       "549    BRUTUS  . Farewell, good Strato.Runs on his sword.Caes...\n",
       "550    ANTONY  . This was the noblest Roman of them all.All t...\n",
       "\n",
       "[551 rows x 2 columns]"
      ]
     },
     "execution_count": 28,
     "metadata": {},
     "output_type": "execute_result"
    }
   ],
   "source": [
    "data"
   ]
  },
  {
   "cell_type": "code",
   "execution_count": 29,
   "id": "34c8f549",
   "metadata": {},
   "outputs": [
    {
     "name": "stdout",
     "output_type": "stream",
     "text": [
      "Requirement already satisfied: TextBlob in c:\\users\\dell\\appdata\\local\\programs\\python\\python310\\lib\\site-packages (0.17.1)\n",
      "Requirement already satisfied: nltk>=3.1 in c:\\users\\dell\\appdata\\local\\programs\\python\\python310\\lib\\site-packages (from TextBlob) (3.7)\n",
      "Requirement already satisfied: click in c:\\users\\dell\\appdata\\local\\programs\\python\\python310\\lib\\site-packages (from nltk>=3.1->TextBlob) (8.0.4)\n",
      "Requirement already satisfied: joblib in c:\\users\\dell\\appdata\\local\\programs\\python\\python310\\lib\\site-packages (from nltk>=3.1->TextBlob) (1.1.0)\n",
      "Requirement already satisfied: regex>=2021.8.3 in c:\\users\\dell\\appdata\\local\\programs\\python\\python310\\lib\\site-packages (from nltk>=3.1->TextBlob) (2022.3.15)\n",
      "Requirement already satisfied: tqdm in c:\\users\\dell\\appdata\\local\\programs\\python\\python310\\lib\\site-packages (from nltk>=3.1->TextBlob) (4.64.0)\n",
      "Requirement already satisfied: colorama in c:\\users\\dell\\appdata\\local\\programs\\python\\python310\\lib\\site-packages (from click->nltk>=3.1->TextBlob) (0.4.4)\n"
     ]
    },
    {
     "name": "stderr",
     "output_type": "stream",
     "text": [
      "WARNING: You are using pip version 22.0.4; however, version 22.1.1 is available.\n",
      "You should consider upgrading via the 'C:\\Users\\DELL\\AppData\\Local\\Programs\\Python\\Python310\\python.exe -m pip install --upgrade pip' command.\n"
     ]
    }
   ],
   "source": [
    "!pip install TextBlob"
   ]
  },
  {
   "cell_type": "code",
   "execution_count": 30,
   "id": "d49fc15d",
   "metadata": {
    "scrolled": false
   },
   "outputs": [
    {
     "name": "stderr",
     "output_type": "stream",
     "text": [
      "[nltk_data] Downloading package averaged_perceptron_tagger to\n",
      "[nltk_data]     C:\\Users\\DELL\\AppData\\Roaming\\nltk_data...\n",
      "[nltk_data]   Package averaged_perceptron_tagger is already up-to-\n",
      "[nltk_data]       date!\n"
     ]
    },
    {
     "data": {
      "text/plain": [
       "True"
      ]
     },
     "execution_count": 30,
     "metadata": {},
     "output_type": "execute_result"
    }
   ],
   "source": [
    "import nltk\n",
    "nltk.download('averaged_perceptron_tagger')"
   ]
  },
  {
   "cell_type": "code",
   "execution_count": 31,
   "id": "75fc854f",
   "metadata": {},
   "outputs": [
    {
     "name": "stderr",
     "output_type": "stream",
     "text": [
      "[nltk_data] Downloading package brown to\n",
      "[nltk_data]     C:\\Users\\DELL\\AppData\\Roaming\\nltk_data...\n",
      "[nltk_data]   Package brown is already up-to-date!\n"
     ]
    },
    {
     "data": {
      "text/plain": [
       "True"
      ]
     },
     "execution_count": 31,
     "metadata": {},
     "output_type": "execute_result"
    }
   ],
   "source": [
    "import nltk\n",
    "nltk.download('brown')"
   ]
  },
  {
   "cell_type": "code",
   "execution_count": 32,
   "id": "60dd6758",
   "metadata": {},
   "outputs": [],
   "source": [
    "from textblob import TextBlob\n",
    "import numpy as np\n",
    "\n",
    "import pandas as pd\n",
    "data = pd.read_csv(\"data.csv\", names=['Character', \"Sentence\"])\n",
    "\n",
    "lst = []\n",
    "lst2 = []\n",
    "for i in range(len(data)):\n",
    "    blob = TextBlob(data[\"Sentence\"][i])\n",
    "    polarity = []\n",
    "    for sentence in blob.sentences:\n",
    "        polarity.append(sentence.sentiment.polarity)\n",
    "        #print(sentence.sentiment.polarity)\n",
    "\n",
    "    sentiment = np.mean(polarity)   \n",
    "    lst2.append(sentiment)\n",
    "    if sentiment>0:\n",
    "        lst.append(\"positive\")\n",
    "    elif sentiment<0:\n",
    "        lst.append(\"negative\")\n",
    "    else:\n",
    "        lst.append(\"neutral\")"
   ]
  },
  {
   "cell_type": "code",
   "execution_count": 33,
   "id": "69abda21",
   "metadata": {},
   "outputs": [
    {
     "data": {
      "text/plain": [
       "['neutral',\n",
       " 'neutral',\n",
       " 'positive',\n",
       " 'positive',\n",
       " 'neutral',\n",
       " 'neutral',\n",
       " 'neutral',\n",
       " 'neutral',\n",
       " 'neutral',\n",
       " 'neutral',\n",
       " 'neutral',\n",
       " 'positive',\n",
       " 'positive',\n",
       " 'negative',\n",
       " 'negative',\n",
       " 'neutral',\n",
       " 'neutral',\n",
       " 'positive',\n",
       " 'positive',\n",
       " 'neutral']"
      ]
     },
     "execution_count": 33,
     "metadata": {},
     "output_type": "execute_result"
    }
   ],
   "source": [
    "lst[:20]"
   ]
  },
  {
   "cell_type": "code",
   "execution_count": 34,
   "id": "e2f0f7d1",
   "metadata": {},
   "outputs": [
    {
     "data": {
      "text/plain": [
       "[0.0,\n",
       " 0.0,\n",
       " 0.05000000000000002,\n",
       " 0.05000000000000002,\n",
       " 0.0,\n",
       " 0.0,\n",
       " 0.0,\n",
       " 0.0,\n",
       " 0.0,\n",
       " 0.0,\n",
       " 0.0,\n",
       " 0.5,\n",
       " 0.03333333333333333,\n",
       " -0.05000000000000001,\n",
       " -0.10416666666666667,\n",
       " 0.0,\n",
       " 0.0,\n",
       " 0.04177083333333331,\n",
       " 0.08055555555555555,\n",
       " 0.0]"
      ]
     },
     "execution_count": 34,
     "metadata": {},
     "output_type": "execute_result"
    }
   ],
   "source": [
    "lst2[:20]"
   ]
  },
  {
   "cell_type": "code",
   "execution_count": 35,
   "id": "69804933",
   "metadata": {},
   "outputs": [
    {
     "name": "stdout",
     "output_type": "stream",
     "text": [
      "[('fear', 0.0), ('anger', 0.0), ('anticip', 0.0), ('trust', 0.0), ('surprise', 0.0), ('positive', 0.0), ('negative', 0.0), ('sadness', 0.0), ('disgust', 0.0), ('joy', 0.0)]\n",
      "[('fear', 0.0), ('anger', 0.0), ('anticip', 0.0), ('trust', 0.0), ('surprise', 0.0), ('positive', 0.0), ('negative', 0.0), ('sadness', 0.0), ('disgust', 0.0), ('joy', 0.0)]\n",
      "[('trust', 0.5), ('positive', 0.5)]\n",
      "[('trust', 0.4), ('positive', 0.4)]\n",
      "[('fear', 0.3333333333333333), ('trust', 0.3333333333333333), ('positive', 0.3333333333333333)]\n",
      "[('fear', 1.0)]\n",
      "[('fear', 0.2), ('anger', 0.2), ('negative', 0.2), ('disgust', 0.2), ('anticipation', 0.2)]\n",
      "[('fear', 0.0), ('anger', 0.0), ('anticip', 0.0), ('trust', 0.0), ('surprise', 0.0), ('positive', 0.0), ('negative', 0.0), ('sadness', 0.0), ('disgust', 0.0), ('joy', 0.0)]\n",
      "[('trust', 1.0)]\n",
      "[('trust', 1.0)]\n",
      "[('positive', 0.3)]\n",
      "[('trust', 0.6)]\n",
      "[('trust', 0.16666666666666666), ('surprise', 0.16666666666666666), ('positive', 0.16666666666666666), ('sadness', 0.16666666666666666), ('joy', 0.16666666666666666), ('anticipation', 0.16666666666666666)]\n",
      "[('trust', 0.5), ('negative', 0.5)]\n",
      "[('fear', 0.0), ('anger', 0.0), ('anticip', 0.0), ('trust', 0.0), ('surprise', 0.0), ('positive', 0.0), ('negative', 0.0), ('sadness', 0.0), ('disgust', 0.0), ('joy', 0.0)]\n",
      "[('surprise', 0.2), ('positive', 0.2), ('sadness', 0.2), ('joy', 0.2), ('anticipation', 0.2)]\n",
      "[('positive', 0.3333333333333333)]\n",
      "[('negative', 0.20512820512820512)]\n",
      "[('surprise', 0.15789473684210525), ('positive', 0.15789473684210525), ('negative', 0.15789473684210525), ('sadness', 0.15789473684210525), ('joy', 0.15789473684210525)]\n",
      "[('fear', 0.0), ('anger', 0.0), ('anticip', 0.0), ('trust', 0.0), ('surprise', 0.0), ('positive', 0.0), ('negative', 0.0), ('sadness', 0.0), ('disgust', 0.0), ('joy', 0.0)]\n",
      "[('negative', 0.25), ('disgust', 0.25)]\n",
      "[('fear', 0.0), ('anger', 0.0), ('anticip', 0.0), ('trust', 0.0), ('surprise', 0.0), ('positive', 0.0), ('negative', 0.0), ('sadness', 0.0), ('disgust', 0.0), ('joy', 0.0)]\n",
      "[('fear', 0.0), ('anger', 0.0), ('anticip', 0.0), ('trust', 0.0), ('surprise', 0.0), ('positive', 0.0), ('negative', 0.0), ('sadness', 0.0), ('disgust', 0.0), ('joy', 0.0)]\n",
      "[('fear', 0.0), ('anger', 0.0), ('anticip', 0.0), ('trust', 0.0), ('surprise', 0.0), ('positive', 0.0), ('negative', 0.0), ('sadness', 0.0), ('disgust', 0.0), ('joy', 0.0)]\n",
      "[('fear', 0.0), ('anger', 0.0), ('anticip', 0.0), ('trust', 0.0), ('surprise', 0.0), ('positive', 0.0), ('negative', 0.0), ('sadness', 0.0), ('disgust', 0.0), ('joy', 0.0)]\n",
      "[('trust', 0.25), ('positive', 0.25), ('negative', 0.25), ('disgust', 0.25)]\n",
      "[('negative', 0.35714285714285715)]\n",
      "[('fear', 0.0), ('anger', 0.0), ('anticip', 0.0), ('trust', 0.0), ('surprise', 0.0), ('positive', 0.0), ('negative', 0.0), ('sadness', 0.0), ('disgust', 0.0), ('joy', 0.0)]\n",
      "[('surprise', 0.3333333333333333)]\n",
      "[('trust', 0.3333333333333333), ('negative', 0.3333333333333333), ('anticipation', 0.3333333333333333)]\n",
      "[('negative', 1.0)]\n",
      "[('trust', 0.16666666666666666), ('positive', 0.16666666666666666), ('negative', 0.16666666666666666), ('sadness', 0.16666666666666666), ('joy', 0.16666666666666666), ('anticipation', 0.16666666666666666)]\n",
      "[('fear', 0.0), ('anger', 0.0), ('anticip', 0.0), ('trust', 0.0), ('surprise', 0.0), ('positive', 0.0), ('negative', 0.0), ('sadness', 0.0), ('disgust', 0.0), ('joy', 0.0)]\n",
      "[('fear', 0.3333333333333333), ('negative', 0.3333333333333333), ('anticipation', 0.3333333333333333)]\n",
      "[('fear', 0.0), ('anger', 0.0), ('anticip', 0.0), ('trust', 0.0), ('surprise', 0.0), ('positive', 0.0), ('negative', 0.0), ('sadness', 0.0), ('disgust', 0.0), ('joy', 0.0)]\n",
      "[('fear', 0.0), ('anger', 0.0), ('anticip', 0.0), ('trust', 0.0), ('surprise', 0.0), ('positive', 0.0), ('negative', 0.0), ('sadness', 0.0), ('disgust', 0.0), ('joy', 0.0)]\n",
      "[('fear', 0.0), ('anger', 0.0), ('anticip', 0.0), ('trust', 0.0), ('surprise', 0.0), ('positive', 0.0), ('negative', 0.0), ('sadness', 0.0), ('disgust', 0.0), ('joy', 0.0)]\n",
      "[('surprise', 0.3333333333333333), ('negative', 0.3333333333333333), ('sadness', 0.3333333333333333)]\n",
      "[('fear', 0.0), ('anger', 0.0), ('anticip', 0.0), ('trust', 0.0), ('surprise', 0.0), ('positive', 0.0), ('negative', 0.0), ('sadness', 0.0), ('disgust', 0.0), ('joy', 0.0)]\n",
      "[('fear', 0.0), ('anger', 0.0), ('anticip', 0.0), ('trust', 0.0), ('surprise', 0.0), ('positive', 0.0), ('negative', 0.0), ('sadness', 0.0), ('disgust', 0.0), ('joy', 0.0)]\n",
      "[('fear', 0.16666666666666666), ('trust', 0.16666666666666666), ('surprise', 0.16666666666666666), ('positive', 0.16666666666666666), ('joy', 0.16666666666666666), ('anticipation', 0.16666666666666666)]\n",
      "[('negative', 0.4)]\n",
      "[('trust', 0.18181818181818182), ('positive', 0.18181818181818182), ('joy', 0.18181818181818182)]\n",
      "[('positive', 0.21428571428571427), ('negative', 0.21428571428571427)]\n",
      "[('trust', 0.2727272727272727), ('positive', 0.2727272727272727)]\n",
      "[('fear', 0.0), ('anger', 0.0), ('anticip', 0.0), ('trust', 0.0), ('surprise', 0.0), ('positive', 0.0), ('negative', 0.0), ('sadness', 0.0), ('disgust', 0.0), ('joy', 0.0)]\n",
      "[('positive', 0.375)]\n",
      "[('positive', 0.5), ('anticipation', 0.5)]\n",
      "[('negative', 0.23809523809523808)]\n",
      "[('fear', 0.25), ('anger', 0.25), ('positive', 0.25), ('negative', 0.25)]\n",
      "[('fear', 0.3333333333333333), ('anger', 0.3333333333333333), ('negative', 0.3333333333333333)]\n",
      "[('positive', 0.18181818181818182)]\n",
      "[('negative', 0.16901408450704225)]\n",
      "[('anger', 0.25), ('trust', 0.25), ('surprise', 0.25), ('positive', 0.25)]\n",
      "[('positive', 0.25)]\n",
      "[('positive', 0.2857142857142857)]\n",
      "[('fear', 0.2), ('trust', 0.2), ('positive', 0.2), ('joy', 0.2), ('anticipation', 0.2)]\n",
      "[('fear', 0.0), ('anger', 0.0), ('anticip', 0.0), ('trust', 0.0), ('surprise', 0.0), ('positive', 0.0), ('negative', 0.0), ('sadness', 0.0), ('disgust', 0.0), ('joy', 0.0)]\n",
      "[('trust', 0.25), ('positive', 0.25), ('negative', 0.25), ('disgust', 0.25)]\n",
      "[('anger', 0.16666666666666666), ('positive', 0.16666666666666666), ('negative', 0.16666666666666666)]\n",
      "[('fear', 0.0), ('anger', 0.0), ('anticip', 0.0), ('trust', 0.0), ('surprise', 0.0), ('positive', 0.0), ('negative', 0.0), ('sadness', 0.0), ('disgust', 0.0), ('joy', 0.0)]\n",
      "[('fear', 0.0), ('anger', 0.0), ('anticip', 0.0), ('trust', 0.0), ('surprise', 0.0), ('positive', 0.0), ('negative', 0.0), ('sadness', 0.0), ('disgust', 0.0), ('joy', 0.0)]\n",
      "[('fear', 0.0), ('anger', 0.0), ('anticip', 0.0), ('trust', 0.0), ('surprise', 0.0), ('positive', 0.0), ('negative', 0.0), ('sadness', 0.0), ('disgust', 0.0), ('joy', 0.0)]\n",
      "[('negative', 0.42857142857142855)]\n",
      "[('fear', 0.25), ('trust', 0.25), ('positive', 0.25), ('negative', 0.25)]\n",
      "[('negative', 0.25)]\n",
      "[('positive', 1.0)]\n",
      "[('fear', 0.0), ('anger', 0.0), ('anticip', 0.0), ('trust', 0.0), ('surprise', 0.0), ('positive', 0.0), ('negative', 0.0), ('sadness', 0.0), ('disgust', 0.0), ('joy', 0.0)]\n",
      "[('fear', 0.0), ('anger', 0.0), ('anticip', 0.0), ('trust', 0.0), ('surprise', 0.0), ('positive', 0.0), ('negative', 0.0), ('sadness', 0.0), ('disgust', 0.0), ('joy', 0.0)]\n",
      "[('fear', 0.0), ('anger', 0.0), ('anticip', 0.0), ('trust', 0.0), ('surprise', 0.0), ('positive', 0.0), ('negative', 0.0), ('sadness', 0.0), ('disgust', 0.0), ('joy', 0.0)]\n",
      "[('negative', 0.5), ('sadness', 0.5)]\n",
      "[('negative', 1.0)]\n",
      "[('fear', 0.0), ('anger', 0.0), ('anticip', 0.0), ('trust', 0.0), ('surprise', 0.0), ('positive', 0.0), ('negative', 0.0), ('sadness', 0.0), ('disgust', 0.0), ('joy', 0.0)]\n",
      "[('negative', 0.5), ('sadness', 0.5)]\n",
      "[('fear', 0.0), ('anger', 0.0), ('anticip', 0.0), ('trust', 0.0), ('surprise', 0.0), ('positive', 0.0), ('negative', 0.0), ('sadness', 0.0), ('disgust', 0.0), ('joy', 0.0)]\n",
      "[('fear', 0.0), ('anger', 0.0), ('anticip', 0.0), ('trust', 0.0), ('surprise', 0.0), ('positive', 0.0), ('negative', 0.0), ('sadness', 0.0), ('disgust', 0.0), ('joy', 0.0)]\n",
      "[('fear', 0.15384615384615385), ('trust', 0.15384615384615385), ('positive', 0.15384615384615385), ('joy', 0.15384615384615385)]\n",
      "[('fear', 0.0), ('anger', 0.0), ('anticip', 0.0), ('trust', 0.0), ('surprise', 0.0), ('positive', 0.0), ('negative', 0.0), ('sadness', 0.0), ('disgust', 0.0), ('joy', 0.0)]\n",
      "[('fear', 0.0), ('anger', 0.0), ('anticip', 0.0), ('trust', 0.0), ('surprise', 0.0), ('positive', 0.0), ('negative', 0.0), ('sadness', 0.0), ('disgust', 0.0), ('joy', 0.0)]\n",
      "[('fear', 0.0), ('anger', 0.0), ('anticip', 0.0), ('trust', 0.0), ('surprise', 0.0), ('positive', 0.0), ('negative', 0.0), ('sadness', 0.0), ('disgust', 0.0), ('joy', 0.0)]\n",
      "[('negative', 0.17857142857142858)]\n",
      "[('fear', 0.2)]\n",
      "[('surprise', 0.3333333333333333), ('negative', 0.3333333333333333), ('sadness', 0.3333333333333333)]\n",
      "[('negative', 0.3333333333333333), ('sadness', 0.3333333333333333)]\n",
      "[('sadness', 0.23076923076923078)]\n",
      "[('positive', 0.17647058823529413), ('joy', 0.17647058823529413)]\n",
      "[('fear', 0.0), ('anger', 0.0), ('anticip', 0.0), ('trust', 0.0), ('surprise', 0.0), ('positive', 0.0), ('negative', 0.0), ('sadness', 0.0), ('disgust', 0.0), ('joy', 0.0)]\n",
      "[('negative', 0.19047619047619047), ('sadness', 0.19047619047619047)]\n",
      "[('fear', 0.0), ('anger', 0.0), ('anticip', 0.0), ('trust', 0.0), ('surprise', 0.0), ('positive', 0.0), ('negative', 0.0), ('sadness', 0.0), ('disgust', 0.0), ('joy', 0.0)]\n",
      "[('fear', 0.0), ('anger', 0.0), ('anticip', 0.0), ('trust', 0.0), ('surprise', 0.0), ('positive', 0.0), ('negative', 0.0), ('sadness', 0.0), ('disgust', 0.0), ('joy', 0.0)]\n",
      "[('fear', 0.0), ('anger', 0.0), ('anticip', 0.0), ('trust', 0.0), ('surprise', 0.0), ('positive', 0.0), ('negative', 0.0), ('sadness', 0.0), ('disgust', 0.0), ('joy', 0.0)]\n",
      "[('negative', 1.0)]\n",
      "[('fear', 0.0), ('anger', 0.0), ('anticip', 0.0), ('trust', 0.0), ('surprise', 0.0), ('positive', 0.0), ('negative', 0.0), ('sadness', 0.0), ('disgust', 0.0), ('joy', 0.0)]\n",
      "[('fear', 0.0), ('anger', 0.0), ('anticip', 0.0), ('trust', 0.0), ('surprise', 0.0), ('positive', 0.0), ('negative', 0.0), ('sadness', 0.0), ('disgust', 0.0), ('joy', 0.0)]\n",
      "[('fear', 0.0), ('anger', 0.0), ('anticip', 0.0), ('trust', 0.0), ('surprise', 0.0), ('positive', 0.0), ('negative', 0.0), ('sadness', 0.0), ('disgust', 0.0), ('joy', 0.0)]\n",
      "[('fear', 0.0), ('anger', 0.0), ('anticip', 0.0), ('trust', 0.0), ('surprise', 0.0), ('positive', 0.0), ('negative', 0.0), ('sadness', 0.0), ('disgust', 0.0), ('joy', 0.0)]\n",
      "[('anticipation', 1.0)]\n",
      "[('trust', 0.25), ('positive', 0.25), ('joy', 0.25), ('anticipation', 0.25)]\n",
      "[('trust', 0.25), ('surprise', 0.25), ('positive', 0.25), ('anticipation', 0.25)]\n",
      "[('fear', 0.0), ('anger', 0.0), ('anticip', 0.0), ('trust', 0.0), ('surprise', 0.0), ('positive', 0.0), ('negative', 0.0), ('sadness', 0.0), ('disgust', 0.0), ('joy', 0.0)]\n",
      "[('trust', 0.5), ('positive', 0.5)]\n",
      "[('positive', 0.36363636363636365)]\n",
      "[('negative', 0.3333333333333333), ('anticipation', 0.3333333333333333)]\n",
      "[('positive', 0.2916666666666667)]\n",
      "[('anger', 0.2727272727272727), ('negative', 0.2727272727272727)]\n",
      "[('fear', 0.3)]\n",
      "[('trust', 0.3333333333333333), ('positive', 0.3333333333333333), ('anticipation', 0.3333333333333333)]\n",
      "[('fear', 0.0), ('anger', 0.0), ('anticip', 0.0), ('trust', 0.0), ('surprise', 0.0), ('positive', 0.0), ('negative', 0.0), ('sadness', 0.0), ('disgust', 0.0), ('joy', 0.0)]\n",
      "[('fear', 0.0), ('anger', 0.0), ('anticip', 0.0), ('trust', 0.0), ('surprise', 0.0), ('positive', 0.0), ('negative', 0.0), ('sadness', 0.0), ('disgust', 0.0), ('joy', 0.0)]\n",
      "[('fear', 0.0), ('anger', 0.0), ('anticip', 0.0), ('trust', 0.0), ('surprise', 0.0), ('positive', 0.0), ('negative', 0.0), ('sadness', 0.0), ('disgust', 0.0), ('joy', 0.0)]\n",
      "[('fear', 0.0), ('anger', 0.0), ('anticip', 0.0), ('trust', 0.0), ('surprise', 0.0), ('positive', 0.0), ('negative', 0.0), ('sadness', 0.0), ('disgust', 0.0), ('joy', 0.0)]\n",
      "[('trust', 0.2), ('surprise', 0.2), ('positive', 0.2), ('joy', 0.2), ('anticipation', 0.2)]\n",
      "[('fear', 0.14285714285714285), ('anger', 0.14285714285714285), ('trust', 0.14285714285714285), ('positive', 0.14285714285714285), ('sadness', 0.14285714285714285), ('disgust', 0.14285714285714285), ('joy', 0.14285714285714285)]\n",
      "[('fear', 0.16666666666666666), ('anger', 0.16666666666666666), ('trust', 0.16666666666666666), ('positive', 0.16666666666666666), ('negative', 0.16666666666666666), ('joy', 0.16666666666666666)]\n",
      "[('fear', 0.16666666666666666), ('sadness', 0.16666666666666666)]\n",
      "[('fear', 0.17647058823529413), ('anger', 0.17647058823529413)]\n",
      "[('fear', 0.1935483870967742), ('negative', 0.1935483870967742)]\n",
      "[('fear', 0.0), ('anger', 0.0), ('anticip', 0.0), ('trust', 0.0), ('surprise', 0.0), ('positive', 0.0), ('negative', 0.0), ('sadness', 0.0), ('disgust', 0.0), ('joy', 0.0)]\n",
      "[('trust', 0.18181818181818182), ('positive', 0.18181818181818182)]\n",
      "[('trust', 0.375), ('positive', 0.375)]\n",
      "[('negative', 0.3333333333333333)]\n",
      "[('negative', 0.5), ('sadness', 0.5)]\n",
      "[('negative', 0.19047619047619047)]\n",
      "[('positive', 1.0)]\n",
      "[('fear', 0.2), ('negative', 0.2), ('sadness', 0.2)]\n",
      "[('anticipation', 1.0)]\n",
      "[('trust', 0.25), ('positive', 0.25), ('joy', 0.25), ('anticipation', 0.25)]\n",
      "[('fear', 0.0), ('anger', 0.0), ('anticip', 0.0), ('trust', 0.0), ('surprise', 0.0), ('positive', 0.0), ('negative', 0.0), ('sadness', 0.0), ('disgust', 0.0), ('joy', 0.0)]\n",
      "[('fear', 0.0), ('anger', 0.0), ('anticip', 0.0), ('trust', 0.0), ('surprise', 0.0), ('positive', 0.0), ('negative', 0.0), ('sadness', 0.0), ('disgust', 0.0), ('joy', 0.0)]\n",
      "[('positive', 0.5)]\n",
      "[('fear', 0.0), ('anger', 0.0), ('anticip', 0.0), ('trust', 0.0), ('surprise', 0.0), ('positive', 0.0), ('negative', 0.0), ('sadness', 0.0), ('disgust', 0.0), ('joy', 0.0)]\n",
      "[('fear', 0.25)]\n",
      "[('positive', 0.5), ('negative', 0.5)]\n",
      "[('surprise', 0.16666666666666666), ('positive', 0.16666666666666666), ('negative', 0.16666666666666666), ('sadness', 0.16666666666666666), ('joy', 0.16666666666666666), ('anticipation', 0.16666666666666666)]\n",
      "[('positive', 1.0)]\n",
      "[('fear', 0.16666666666666666)]\n",
      "[('negative', 0.3333333333333333), ('disgust', 0.3333333333333333), ('anticipation', 0.3333333333333333)]\n",
      "[('trust', 0.5), ('positive', 0.5)]\n",
      "[('positive', 0.4)]\n",
      "[('anticipation', 0.21739130434782608)]\n",
      "[('fear', 0.0), ('anger', 0.0), ('anticip', 0.0), ('trust', 0.0), ('surprise', 0.0), ('positive', 0.0), ('negative', 0.0), ('sadness', 0.0), ('disgust', 0.0), ('joy', 0.0)]\n",
      "[('fear', 0.0), ('anger', 0.0), ('anticip', 0.0), ('trust', 0.0), ('surprise', 0.0), ('positive', 0.0), ('negative', 0.0), ('sadness', 0.0), ('disgust', 0.0), ('joy', 0.0)]\n",
      "[('fear', 0.4)]\n",
      "[('positive', 0.5), ('anticipation', 0.5)]\n",
      "[('fear', 0.0), ('anger', 0.0), ('anticip', 0.0), ('trust', 0.0), ('surprise', 0.0), ('positive', 0.0), ('negative', 0.0), ('sadness', 0.0), ('disgust', 0.0), ('joy', 0.0)]\n",
      "[('trust', 0.5), ('positive', 0.5)]\n",
      "[('fear', 0.0), ('anger', 0.0), ('anticip', 0.0), ('trust', 0.0), ('surprise', 0.0), ('positive', 0.0), ('negative', 0.0), ('sadness', 0.0), ('disgust', 0.0), ('joy', 0.0)]\n",
      "[('fear', 0.0), ('anger', 0.0), ('anticip', 0.0), ('trust', 0.0), ('surprise', 0.0), ('positive', 0.0), ('negative', 0.0), ('sadness', 0.0), ('disgust', 0.0), ('joy', 0.0)]\n",
      "[('fear', 0.0), ('anger', 0.0), ('anticip', 0.0), ('trust', 0.0), ('surprise', 0.0), ('positive', 0.0), ('negative', 0.0), ('sadness', 0.0), ('disgust', 0.0), ('joy', 0.0)]\n",
      "[('fear', 0.0), ('anger', 0.0), ('anticip', 0.0), ('trust', 0.0), ('surprise', 0.0), ('positive', 0.0), ('negative', 0.0), ('sadness', 0.0), ('disgust', 0.0), ('joy', 0.0)]\n",
      "[('trust', 0.5), ('positive', 0.5)]\n",
      "[('trust', 0.5), ('positive', 0.5)]\n",
      "[('fear', 0.0), ('anger', 0.0), ('anticip', 0.0), ('trust', 0.0), ('surprise', 0.0), ('positive', 0.0), ('negative', 0.0), ('sadness', 0.0), ('disgust', 0.0), ('joy', 0.0)]\n",
      "[('trust', 0.2222222222222222), ('positive', 0.2222222222222222)]\n",
      "[('fear', 0.0), ('anger', 0.0), ('anticip', 0.0), ('trust', 0.0), ('surprise', 0.0), ('positive', 0.0), ('negative', 0.0), ('sadness', 0.0), ('disgust', 0.0), ('joy', 0.0)]\n",
      "[('trust', 0.5), ('positive', 0.5)]\n",
      "[('positive', 0.16393442622950818)]\n",
      "[('fear', 0.0), ('anger', 0.0), ('anticip', 0.0), ('trust', 0.0), ('surprise', 0.0), ('positive', 0.0), ('negative', 0.0), ('sadness', 0.0), ('disgust', 0.0), ('joy', 0.0)]\n",
      "[('surprise', 0.3333333333333333), ('negative', 0.3333333333333333), ('sadness', 0.3333333333333333)]\n",
      "[('surprise', 1.0)]\n",
      "[('surprise', 0.3333333333333333), ('negative', 0.3333333333333333), ('sadness', 0.3333333333333333)]\n",
      "[('fear', 0.0), ('anger', 0.0), ('anticip', 0.0), ('trust', 0.0), ('surprise', 0.0), ('positive', 0.0), ('negative', 0.0), ('sadness', 0.0), ('disgust', 0.0), ('joy', 0.0)]\n",
      "[('positive', 0.18181818181818182), ('negative', 0.18181818181818182)]\n",
      "[('negative', 0.23076923076923078)]\n",
      "[('fear', 0.2), ('anger', 0.2), ('positive', 0.2), ('negative', 0.2), ('joy', 0.2)]\n",
      "[('positive', 0.18181818181818182), ('joy', 0.18181818181818182), ('anticipation', 0.18181818181818182)]\n",
      "[('trust', 0.3333333333333333), ('positive', 0.3333333333333333), ('anticipation', 0.3333333333333333)]\n",
      "[('sadness', 0.5), ('anticipation', 0.5)]\n",
      "[('negative', 0.4444444444444444)]\n",
      "[('fear', 0.0), ('anger', 0.0), ('anticip', 0.0), ('trust', 0.0), ('surprise', 0.0), ('positive', 0.0), ('negative', 0.0), ('sadness', 0.0), ('disgust', 0.0), ('joy', 0.0)]\n",
      "[('fear', 0.0), ('anger', 0.0), ('anticip', 0.0), ('trust', 0.0), ('surprise', 0.0), ('positive', 0.0), ('negative', 0.0), ('sadness', 0.0), ('disgust', 0.0), ('joy', 0.0)]\n",
      "[('trust', 0.2), ('surprise', 0.2), ('positive', 0.2), ('joy', 0.2), ('anticipation', 0.2)]\n",
      "[('trust', 0.2857142857142857)]\n"
     ]
    },
    {
     "name": "stdout",
     "output_type": "stream",
     "text": [
      "[('positive', 0.23076923076923078), ('anticipation', 0.23076923076923078)]\n",
      "[('negative', 1.0)]\n",
      "[('fear', 0.0), ('anger', 0.0), ('anticip', 0.0), ('trust', 0.0), ('surprise', 0.0), ('positive', 0.0), ('negative', 0.0), ('sadness', 0.0), ('disgust', 0.0), ('joy', 0.0)]\n",
      "[('fear', 0.0), ('anger', 0.0), ('anticip', 0.0), ('trust', 0.0), ('surprise', 0.0), ('positive', 0.0), ('negative', 0.0), ('sadness', 0.0), ('disgust', 0.0), ('joy', 0.0)]\n",
      "[('fear', 0.0), ('anger', 0.0), ('anticip', 0.0), ('trust', 0.0), ('surprise', 0.0), ('positive', 0.0), ('negative', 0.0), ('sadness', 0.0), ('disgust', 0.0), ('joy', 0.0)]\n",
      "[('positive', 0.5714285714285714)]\n",
      "[('trust', 0.4), ('positive', 0.4)]\n",
      "[('fear', 0.0), ('anger', 0.0), ('anticip', 0.0), ('trust', 0.0), ('surprise', 0.0), ('positive', 0.0), ('negative', 0.0), ('sadness', 0.0), ('disgust', 0.0), ('joy', 0.0)]\n",
      "[('negative', 0.3333333333333333)]\n",
      "[('positive', 0.5), ('joy', 0.5)]\n",
      "[('negative', 0.3333333333333333), ('sadness', 0.3333333333333333), ('disgust', 0.3333333333333333)]\n",
      "[('positive', 0.5), ('anticipation', 0.5)]\n",
      "[('fear', 0.0), ('anger', 0.0), ('anticip', 0.0), ('trust', 0.0), ('surprise', 0.0), ('positive', 0.0), ('negative', 0.0), ('sadness', 0.0), ('disgust', 0.0), ('joy', 0.0)]\n",
      "[('trust', 0.25), ('positive', 0.25), ('joy', 0.25), ('anticipation', 0.25)]\n",
      "[('positive', 0.25), ('joy', 0.25), ('anticipation', 0.25)]\n",
      "[('fear', 0.25), ('negative', 0.25)]\n",
      "[('trust', 0.2857142857142857), ('positive', 0.2857142857142857)]\n",
      "[('fear', 0.16666666666666666), ('negative', 0.16666666666666666), ('sadness', 0.16666666666666666)]\n",
      "[('negative', 0.3076923076923077)]\n",
      "[('fear', 0.0), ('anger', 0.0), ('anticip', 0.0), ('trust', 0.0), ('surprise', 0.0), ('positive', 0.0), ('negative', 0.0), ('sadness', 0.0), ('disgust', 0.0), ('joy', 0.0)]\n",
      "[('trust', 0.2), ('positive', 0.2), ('anticipation', 0.2)]\n",
      "[('anger', 0.2222222222222222), ('negative', 0.2222222222222222)]\n",
      "[('positive', 0.375)]\n",
      "[('fear', 0.0), ('anger', 0.0), ('anticip', 0.0), ('trust', 0.0), ('surprise', 0.0), ('positive', 0.0), ('negative', 0.0), ('sadness', 0.0), ('disgust', 0.0), ('joy', 0.0)]\n",
      "[('negative', 0.5)]\n",
      "[('anticipation', 1.0)]\n",
      "[('fear', 0.0), ('anger', 0.0), ('anticip', 0.0), ('trust', 0.0), ('surprise', 0.0), ('positive', 0.0), ('negative', 0.0), ('sadness', 0.0), ('disgust', 0.0), ('joy', 0.0)]\n",
      "[('anticipation', 0.4)]\n",
      "[('trust', 0.5), ('positive', 0.5)]\n",
      "[('positive', 0.375)]\n",
      "[('fear', 0.0), ('anger', 0.0), ('anticip', 0.0), ('trust', 0.0), ('surprise', 0.0), ('positive', 0.0), ('negative', 0.0), ('sadness', 0.0), ('disgust', 0.0), ('joy', 0.0)]\n",
      "[('fear', 0.0), ('anger', 0.0), ('anticip', 0.0), ('trust', 0.0), ('surprise', 0.0), ('positive', 0.0), ('negative', 0.0), ('sadness', 0.0), ('disgust', 0.0), ('joy', 0.0)]\n",
      "[('fear', 0.0), ('anger', 0.0), ('anticip', 0.0), ('trust', 0.0), ('surprise', 0.0), ('positive', 0.0), ('negative', 0.0), ('sadness', 0.0), ('disgust', 0.0), ('joy', 0.0)]\n",
      "[('fear', 0.0), ('anger', 0.0), ('anticip', 0.0), ('trust', 0.0), ('surprise', 0.0), ('positive', 0.0), ('negative', 0.0), ('sadness', 0.0), ('disgust', 0.0), ('joy', 0.0)]\n",
      "[('fear', 0.14285714285714285), ('anger', 0.14285714285714285), ('trust', 0.14285714285714285), ('positive', 0.14285714285714285), ('negative', 0.14285714285714285), ('sadness', 0.14285714285714285), ('disgust', 0.14285714285714285)]\n",
      "[('positive', 1.0)]\n",
      "[('fear', 0.0), ('anger', 0.0), ('anticip', 0.0), ('trust', 0.0), ('surprise', 0.0), ('positive', 0.0), ('negative', 0.0), ('sadness', 0.0), ('disgust', 0.0), ('joy', 0.0)]\n",
      "[('fear', 0.0), ('anger', 0.0), ('anticip', 0.0), ('trust', 0.0), ('surprise', 0.0), ('positive', 0.0), ('negative', 0.0), ('sadness', 0.0), ('disgust', 0.0), ('joy', 0.0)]\n",
      "[('fear', 0.3333333333333333), ('anger', 0.3333333333333333), ('negative', 0.3333333333333333)]\n",
      "[('fear', 0.0), ('anger', 0.0), ('anticip', 0.0), ('trust', 0.0), ('surprise', 0.0), ('positive', 0.0), ('negative', 0.0), ('sadness', 0.0), ('disgust', 0.0), ('joy', 0.0)]\n",
      "[('anger', 0.3333333333333333), ('negative', 0.3333333333333333)]\n",
      "[('fear', 1.0)]\n",
      "[('anticipation', 1.0)]\n",
      "[('fear', 0.0), ('anger', 0.0), ('anticip', 0.0), ('trust', 0.0), ('surprise', 0.0), ('positive', 0.0), ('negative', 0.0), ('sadness', 0.0), ('disgust', 0.0), ('joy', 0.0)]\n",
      "[('positive', 0.5), ('anticipation', 0.5)]\n",
      "[('trust', 0.17142857142857143), ('negative', 0.17142857142857143)]\n",
      "[('positive', 0.2857142857142857), ('joy', 0.2857142857142857)]\n",
      "[('fear', 0.0), ('anger', 0.0), ('anticip', 0.0), ('trust', 0.0), ('surprise', 0.0), ('positive', 0.0), ('negative', 0.0), ('sadness', 0.0), ('disgust', 0.0), ('joy', 0.0)]\n",
      "[('positive', 0.3333333333333333), ('negative', 0.3333333333333333), ('sadness', 0.3333333333333333)]\n",
      "[('trust', 0.22580645161290322), ('positive', 0.22580645161290322)]\n",
      "[('fear', 0.0), ('anger', 0.0), ('anticip', 0.0), ('trust', 0.0), ('surprise', 0.0), ('positive', 0.0), ('negative', 0.0), ('sadness', 0.0), ('disgust', 0.0), ('joy', 0.0)]\n",
      "[('fear', 0.0), ('anger', 0.0), ('anticip', 0.0), ('trust', 0.0), ('surprise', 0.0), ('positive', 0.0), ('negative', 0.0), ('sadness', 0.0), ('disgust', 0.0), ('joy', 0.0)]\n",
      "[('fear', 0.2), ('anger', 0.2), ('surprise', 0.2), ('negative', 0.2), ('sadness', 0.2)]\n",
      "[('negative', 0.5), ('sadness', 0.5)]\n",
      "[('trust', 0.2), ('positive', 0.2), ('negative', 0.2), ('sadness', 0.2), ('joy', 0.2)]\n",
      "[('trust', 0.16666666666666666), ('positive', 0.16666666666666666), ('negative', 0.16666666666666666), ('sadness', 0.16666666666666666), ('joy', 0.16666666666666666), ('anticipation', 0.16666666666666666)]\n",
      "[('positive', 1.0)]\n",
      "[('fear', 0.0), ('anger', 0.0), ('anticip', 0.0), ('trust', 0.0), ('surprise', 0.0), ('positive', 0.0), ('negative', 0.0), ('sadness', 0.0), ('disgust', 0.0), ('joy', 0.0)]\n",
      "[('positive', 0.26666666666666666)]\n",
      "[('negative', 0.5)]\n",
      "[('fear', 0.0), ('anger', 0.0), ('anticip', 0.0), ('trust', 0.0), ('surprise', 0.0), ('positive', 0.0), ('negative', 0.0), ('sadness', 0.0), ('disgust', 0.0), ('joy', 0.0)]\n",
      "[('fear', 0.0), ('anger', 0.0), ('anticip', 0.0), ('trust', 0.0), ('surprise', 0.0), ('positive', 0.0), ('negative', 0.0), ('sadness', 0.0), ('disgust', 0.0), ('joy', 0.0)]\n",
      "[('fear', 0.3333333333333333), ('negative', 0.3333333333333333), ('sadness', 0.3333333333333333)]\n",
      "[('fear', 0.2222222222222222), ('negative', 0.2222222222222222)]\n",
      "[('negative', 0.14285714285714285), ('anticipation', 0.14285714285714285)]\n",
      "[('negative', 0.6)]\n",
      "[('negative', 1.0)]\n",
      "[('trust', 0.2), ('surprise', 0.2), ('positive', 0.2), ('joy', 0.2), ('anticipation', 0.2)]\n",
      "[('positive', 1.0)]\n",
      "[('trust', 0.3333333333333333), ('positive', 0.3333333333333333), ('joy', 0.3333333333333333)]\n",
      "[('positive', 0.625)]\n",
      "[('trust', 0.3333333333333333), ('positive', 0.3333333333333333), ('joy', 0.3333333333333333)]\n",
      "[('fear', 0.0), ('anger', 0.0), ('anticip', 0.0), ('trust', 0.0), ('surprise', 0.0), ('positive', 0.0), ('negative', 0.0), ('sadness', 0.0), ('disgust', 0.0), ('joy', 0.0)]\n",
      "[('fear', 0.0), ('anger', 0.0), ('anticip', 0.0), ('trust', 0.0), ('surprise', 0.0), ('positive', 0.0), ('negative', 0.0), ('sadness', 0.0), ('disgust', 0.0), ('joy', 0.0)]\n",
      "[('positive', 0.175)]\n",
      "[('fear', 0.12962962962962962), ('trust', 0.12962962962962962), ('positive', 0.12962962962962962), ('negative', 0.12962962962962962), ('sadness', 0.12962962962962962)]\n",
      "[('fear', 0.0), ('anger', 0.0), ('anticip', 0.0), ('trust', 0.0), ('surprise', 0.0), ('positive', 0.0), ('negative', 0.0), ('sadness', 0.0), ('disgust', 0.0), ('joy', 0.0)]\n",
      "[('positive', 0.2857142857142857)]\n",
      "[('positive', 0.1875)]\n",
      "[('fear', 0.0), ('anger', 0.0), ('anticip', 0.0), ('trust', 0.0), ('surprise', 0.0), ('positive', 0.0), ('negative', 0.0), ('sadness', 0.0), ('disgust', 0.0), ('joy', 0.0)]\n",
      "[('positive', 0.4)]\n",
      "[('anger', 0.18181818181818182), ('trust', 0.18181818181818182), ('negative', 0.18181818181818182), ('disgust', 0.18181818181818182)]\n",
      "[('positive', 0.2222222222222222), ('joy', 0.2222222222222222)]\n",
      "[('positive', 0.2727272727272727)]\n",
      "[('positive', 0.3333333333333333)]\n",
      "[('fear', 0.0), ('anger', 0.0), ('anticip', 0.0), ('trust', 0.0), ('surprise', 0.0), ('positive', 0.0), ('negative', 0.0), ('sadness', 0.0), ('disgust', 0.0), ('joy', 0.0)]\n",
      "[('trust', 0.5), ('positive', 0.5)]\n",
      "[('positive', 0.4666666666666667)]\n",
      "[('negative', 0.5), ('sadness', 0.5)]\n",
      "[('positive', 0.35714285714285715)]\n",
      "[('fear', 0.0), ('anger', 0.0), ('anticip', 0.0), ('trust', 0.0), ('surprise', 0.0), ('positive', 0.0), ('negative', 0.0), ('sadness', 0.0), ('disgust', 0.0), ('joy', 0.0)]\n",
      "[('fear', 0.0), ('anger', 0.0), ('anticip', 0.0), ('trust', 0.0), ('surprise', 0.0), ('positive', 0.0), ('negative', 0.0), ('sadness', 0.0), ('disgust', 0.0), ('joy', 0.0)]\n",
      "[('negative', 0.24324324324324326)]\n",
      "[('fear', 0.0), ('anger', 0.0), ('anticip', 0.0), ('trust', 0.0), ('surprise', 0.0), ('positive', 0.0), ('negative', 0.0), ('sadness', 0.0), ('disgust', 0.0), ('joy', 0.0)]\n",
      "[('fear', 0.2), ('positive', 0.2), ('negative', 0.2), ('sadness', 0.2), ('anticipation', 0.2)]\n",
      "[('negative', 0.21052631578947367)]\n",
      "[('anticipation', 0.3)]\n",
      "[('fear', 0.0), ('anger', 0.0), ('anticip', 0.0), ('trust', 0.0), ('surprise', 0.0), ('positive', 0.0), ('negative', 0.0), ('sadness', 0.0), ('disgust', 0.0), ('joy', 0.0)]\n",
      "[('positive', 1.0)]\n",
      "[('trust', 0.5), ('positive', 0.5)]\n",
      "[('positive', 0.2786885245901639)]\n",
      "[('positive', 0.14634146341463414)]\n",
      "[('positive', 0.3333333333333333), ('joy', 0.3333333333333333), ('anticipation', 0.3333333333333333)]\n",
      "[('positive', 1.0)]\n",
      "[('fear', 0.0), ('anger', 0.0), ('anticip', 0.0), ('trust', 0.0), ('surprise', 0.0), ('positive', 0.0), ('negative', 0.0), ('sadness', 0.0), ('disgust', 0.0), ('joy', 0.0)]\n",
      "[('fear', 0.0), ('anger', 0.0), ('anticip', 0.0), ('trust', 0.0), ('surprise', 0.0), ('positive', 0.0), ('negative', 0.0), ('sadness', 0.0), ('disgust', 0.0), ('joy', 0.0)]\n",
      "[('fear', 0.0), ('anger', 0.0), ('anticip', 0.0), ('trust', 0.0), ('surprise', 0.0), ('positive', 0.0), ('negative', 0.0), ('sadness', 0.0), ('disgust', 0.0), ('joy', 0.0)]\n",
      "[('fear', 0.0), ('anger', 0.0), ('anticip', 0.0), ('trust', 0.0), ('surprise', 0.0), ('positive', 0.0), ('negative', 0.0), ('sadness', 0.0), ('disgust', 0.0), ('joy', 0.0)]\n",
      "[('fear', 0.0), ('anger', 0.0), ('anticip', 0.0), ('trust', 0.0), ('surprise', 0.0), ('positive', 0.0), ('negative', 0.0), ('sadness', 0.0), ('disgust', 0.0), ('joy', 0.0)]\n",
      "[('fear', 0.0), ('anger', 0.0), ('anticip', 0.0), ('trust', 0.0), ('surprise', 0.0), ('positive', 0.0), ('negative', 0.0), ('sadness', 0.0), ('disgust', 0.0), ('joy', 0.0)]\n",
      "[('positive', 0.375), ('sadness', 0.375)]\n",
      "[('fear', 0.0), ('anger', 0.0), ('anticip', 0.0), ('trust', 0.0), ('surprise', 0.0), ('positive', 0.0), ('negative', 0.0), ('sadness', 0.0), ('disgust', 0.0), ('joy', 0.0)]\n",
      "[('positive', 0.5), ('anticipation', 0.5)]\n",
      "[('positive', 1.0)]\n",
      "[('fear', 0.0), ('anger', 0.0), ('anticip', 0.0), ('trust', 0.0), ('surprise', 0.0), ('positive', 0.0), ('negative', 0.0), ('sadness', 0.0), ('disgust', 0.0), ('joy', 0.0)]\n",
      "[('fear', 0.0), ('anger', 0.0), ('anticip', 0.0), ('trust', 0.0), ('surprise', 0.0), ('positive', 0.0), ('negative', 0.0), ('sadness', 0.0), ('disgust', 0.0), ('joy', 0.0)]\n",
      "[('fear', 0.5), ('negative', 0.5)]\n",
      "[('fear', 0.2), ('anger', 0.2), ('negative', 0.2), ('sadness', 0.2), ('disgust', 0.2)]\n",
      "[('fear', 0.0), ('anger', 0.0), ('anticip', 0.0), ('trust', 0.0), ('surprise', 0.0), ('positive', 0.0), ('negative', 0.0), ('sadness', 0.0), ('disgust', 0.0), ('joy', 0.0)]\n",
      "[('fear', 0.0), ('anger', 0.0), ('anticip', 0.0), ('trust', 0.0), ('surprise', 0.0), ('positive', 0.0), ('negative', 0.0), ('sadness', 0.0), ('disgust', 0.0), ('joy', 0.0)]\n",
      "[('fear', 0.0), ('anger', 0.0), ('anticip', 0.0), ('trust', 0.0), ('surprise', 0.0), ('positive', 0.0), ('negative', 0.0), ('sadness', 0.0), ('disgust', 0.0), ('joy', 0.0)]\n",
      "[('positive', 0.234375)]\n",
      "[('positive', 1.0)]\n",
      "[('positive', 0.5), ('negative', 0.5)]\n",
      "[('fear', 0.3333333333333333), ('negative', 0.3333333333333333)]\n",
      "[('anger', 0.5), ('negative', 0.5)]\n",
      "[('positive', 0.5)]\n",
      "[('fear', 1.0)]\n",
      "[('fear', 0.0), ('anger', 0.0), ('anticip', 0.0), ('trust', 0.0), ('surprise', 0.0), ('positive', 0.0), ('negative', 0.0), ('sadness', 0.0), ('disgust', 0.0), ('joy', 0.0)]\n",
      "[('fear', 0.0), ('anger', 0.0), ('anticip', 0.0), ('trust', 0.0), ('surprise', 0.0), ('positive', 0.0), ('negative', 0.0), ('sadness', 0.0), ('disgust', 0.0), ('joy', 0.0)]\n",
      "[('negative', 0.2564102564102564)]\n",
      "[('fear', 0.0), ('anger', 0.0), ('anticip', 0.0), ('trust', 0.0), ('surprise', 0.0), ('positive', 0.0), ('negative', 0.0), ('sadness', 0.0), ('disgust', 0.0), ('joy', 0.0)]\n",
      "[('fear', 0.13333333333333333), ('trust', 0.13333333333333333), ('positive', 0.13333333333333333), ('negative', 0.13333333333333333), ('anticipation', 0.13333333333333333)]\n",
      "[('fear', 0.0), ('anger', 0.0), ('anticip', 0.0), ('trust', 0.0), ('surprise', 0.0), ('positive', 0.0), ('negative', 0.0), ('sadness', 0.0), ('disgust', 0.0), ('joy', 0.0)]\n",
      "[('negative', 0.2727272727272727)]\n",
      "[('trust', 0.5), ('anticipation', 0.5)]\n",
      "[('fear', 0.0), ('anger', 0.0), ('anticip', 0.0), ('trust', 0.0), ('surprise', 0.0), ('positive', 0.0), ('negative', 0.0), ('sadness', 0.0), ('disgust', 0.0), ('joy', 0.0)]\n",
      "[('sadness', 0.4)]\n",
      "[('positive', 1.0)]\n",
      "[('surprise', 0.3333333333333333), ('negative', 0.3333333333333333), ('sadness', 0.3333333333333333)]\n",
      "[('fear', 0.0), ('anger', 0.0), ('anticip', 0.0), ('trust', 0.0), ('surprise', 0.0), ('positive', 0.0), ('negative', 0.0), ('sadness', 0.0), ('disgust', 0.0), ('joy', 0.0)]\n",
      "[('fear', 0.3333333333333333), ('negative', 0.3333333333333333), ('sadness', 0.3333333333333333)]\n",
      "[('trust', 0.5), ('positive', 0.5)]\n",
      "[('fear', 0.5), ('anger', 0.5)]\n",
      "[('negative', 0.22916666666666666)]\n",
      "[('positive', 0.5), ('negative', 0.5)]\n",
      "[('trust', 0.5), ('positive', 0.5)]\n",
      "[('negative', 0.5), ('sadness', 0.5)]\n",
      "[('fear', 0.0), ('anger', 0.0), ('anticip', 0.0), ('trust', 0.0), ('surprise', 0.0), ('positive', 0.0), ('negative', 0.0), ('sadness', 0.0), ('disgust', 0.0), ('joy', 0.0)]\n",
      "[('fear', 0.2), ('anger', 0.2), ('negative', 0.2), ('sadness', 0.2), ('disgust', 0.2)]\n",
      "[('fear', 0.2), ('anger', 0.2), ('negative', 0.2), ('sadness', 0.2), ('disgust', 0.2)]\n",
      "[('fear', 0.0), ('anger', 0.0), ('anticip', 0.0), ('trust', 0.0), ('surprise', 0.0), ('positive', 0.0), ('negative', 0.0), ('sadness', 0.0), ('disgust', 0.0), ('joy', 0.0)]\n"
     ]
    },
    {
     "name": "stdout",
     "output_type": "stream",
     "text": [
      "[('trust', 0.5), ('positive', 0.5)]\n",
      "[('fear', 0.0), ('anger', 0.0), ('anticip', 0.0), ('trust', 0.0), ('surprise', 0.0), ('positive', 0.0), ('negative', 0.0), ('sadness', 0.0), ('disgust', 0.0), ('joy', 0.0)]\n",
      "[('positive', 0.21818181818181817)]\n",
      "[('fear', 0.0), ('anger', 0.0), ('anticip', 0.0), ('trust', 0.0), ('surprise', 0.0), ('positive', 0.0), ('negative', 0.0), ('sadness', 0.0), ('disgust', 0.0), ('joy', 0.0)]\n",
      "[('anticipation', 1.0)]\n",
      "[('trust', 0.5), ('positive', 0.5)]\n",
      "[('positive', 0.5)]\n",
      "[('positive', 1.0)]\n",
      "[('fear', 0.14285714285714285), ('anger', 0.14285714285714285), ('surprise', 0.14285714285714285), ('negative', 0.14285714285714285), ('anticipation', 0.14285714285714285)]\n",
      "[('fear', 0.0), ('anger', 0.0), ('anticip', 0.0), ('trust', 0.0), ('surprise', 0.0), ('positive', 0.0), ('negative', 0.0), ('sadness', 0.0), ('disgust', 0.0), ('joy', 0.0)]\n",
      "[('fear', 0.0), ('anger', 0.0), ('anticip', 0.0), ('trust', 0.0), ('surprise', 0.0), ('positive', 0.0), ('negative', 0.0), ('sadness', 0.0), ('disgust', 0.0), ('joy', 0.0)]\n",
      "[('fear', 0.0), ('anger', 0.0), ('anticip', 0.0), ('trust', 0.0), ('surprise', 0.0), ('positive', 0.0), ('negative', 0.0), ('sadness', 0.0), ('disgust', 0.0), ('joy', 0.0)]\n",
      "[('fear', 0.5), ('positive', 0.5)]\n",
      "[('fear', 1.0)]\n",
      "[('fear', 0.0), ('anger', 0.0), ('anticip', 0.0), ('trust', 0.0), ('surprise', 0.0), ('positive', 0.0), ('negative', 0.0), ('sadness', 0.0), ('disgust', 0.0), ('joy', 0.0)]\n",
      "[('fear', 0.0), ('anger', 0.0), ('anticip', 0.0), ('trust', 0.0), ('surprise', 0.0), ('positive', 0.0), ('negative', 0.0), ('sadness', 0.0), ('disgust', 0.0), ('joy', 0.0)]\n",
      "[('positive', 0.2857142857142857)]\n",
      "[('fear', 0.0), ('anger', 0.0), ('anticip', 0.0), ('trust', 0.0), ('surprise', 0.0), ('positive', 0.0), ('negative', 0.0), ('sadness', 0.0), ('disgust', 0.0), ('joy', 0.0)]\n",
      "[('positive', 0.6666666666666666)]\n",
      "[('fear', 0.0), ('anger', 0.0), ('anticip', 0.0), ('trust', 0.0), ('surprise', 0.0), ('positive', 0.0), ('negative', 0.0), ('sadness', 0.0), ('disgust', 0.0), ('joy', 0.0)]\n",
      "[('fear', 0.0), ('anger', 0.0), ('anticip', 0.0), ('trust', 0.0), ('surprise', 0.0), ('positive', 0.0), ('negative', 0.0), ('sadness', 0.0), ('disgust', 0.0), ('joy', 0.0)]\n",
      "[('fear', 0.0), ('anger', 0.0), ('anticip', 0.0), ('trust', 0.0), ('surprise', 0.0), ('positive', 0.0), ('negative', 0.0), ('sadness', 0.0), ('disgust', 0.0), ('joy', 0.0)]\n",
      "[('fear', 0.0), ('anger', 0.0), ('anticip', 0.0), ('trust', 0.0), ('surprise', 0.0), ('positive', 0.0), ('negative', 0.0), ('sadness', 0.0), ('disgust', 0.0), ('joy', 0.0)]\n",
      "[('fear', 0.0), ('anger', 0.0), ('anticip', 0.0), ('trust', 0.0), ('surprise', 0.0), ('positive', 0.0), ('negative', 0.0), ('sadness', 0.0), ('disgust', 0.0), ('joy', 0.0)]\n",
      "[('fear', 0.0), ('anger', 0.0), ('anticip', 0.0), ('trust', 0.0), ('surprise', 0.0), ('positive', 0.0), ('negative', 0.0), ('sadness', 0.0), ('disgust', 0.0), ('joy', 0.0)]\n",
      "[('fear', 0.0), ('anger', 0.0), ('anticip', 0.0), ('trust', 0.0), ('surprise', 0.0), ('positive', 0.0), ('negative', 0.0), ('sadness', 0.0), ('disgust', 0.0), ('joy', 0.0)]\n",
      "[('fear', 0.0), ('anger', 0.0), ('anticip', 0.0), ('trust', 0.0), ('surprise', 0.0), ('positive', 0.0), ('negative', 0.0), ('sadness', 0.0), ('disgust', 0.0), ('joy', 0.0)]\n",
      "[('fear', 0.0), ('anger', 0.0), ('anticip', 0.0), ('trust', 0.0), ('surprise', 0.0), ('positive', 0.0), ('negative', 0.0), ('sadness', 0.0), ('disgust', 0.0), ('joy', 0.0)]\n",
      "[('fear', 0.2727272727272727), ('anger', 0.2727272727272727)]\n",
      "[('fear', 0.14285714285714285), ('anger', 0.14285714285714285), ('trust', 0.14285714285714285), ('positive', 0.14285714285714285), ('negative', 0.14285714285714285), ('disgust', 0.14285714285714285), ('joy', 0.14285714285714285)]\n",
      "[('fear', 0.0), ('anger', 0.0), ('anticip', 0.0), ('trust', 0.0), ('surprise', 0.0), ('positive', 0.0), ('negative', 0.0), ('sadness', 0.0), ('disgust', 0.0), ('joy', 0.0)]\n",
      "[('fear', 0.0), ('anger', 0.0), ('anticip', 0.0), ('trust', 0.0), ('surprise', 0.0), ('positive', 0.0), ('negative', 0.0), ('sadness', 0.0), ('disgust', 0.0), ('joy', 0.0)]\n",
      "[('trust', 0.5), ('positive', 0.5)]\n",
      "[('fear', 0.2), ('anger', 0.2), ('negative', 0.2), ('disgust', 0.2), ('anticipation', 0.2)]\n",
      "[('fear', 0.2), ('anger', 0.2), ('negative', 0.2), ('sadness', 0.2), ('disgust', 0.2)]\n",
      "[('fear', 0.0), ('anger', 0.0), ('anticip', 0.0), ('trust', 0.0), ('surprise', 0.0), ('positive', 0.0), ('negative', 0.0), ('sadness', 0.0), ('disgust', 0.0), ('joy', 0.0)]\n",
      "[('fear', 0.0), ('anger', 0.0), ('anticip', 0.0), ('trust', 0.0), ('surprise', 0.0), ('positive', 0.0), ('negative', 0.0), ('sadness', 0.0), ('disgust', 0.0), ('joy', 0.0)]\n",
      "[('fear', 0.25), ('negative', 0.25)]\n",
      "[('anger', 0.3333333333333333), ('negative', 0.3333333333333333), ('disgust', 0.3333333333333333)]\n",
      "[('trust', 0.25), ('positive', 0.25), ('joy', 0.25), ('anticipation', 0.25)]\n",
      "[('negative', 0.26666666666666666)]\n",
      "[('trust', 0.3076923076923077)]\n",
      "[('fear', 0.0), ('anger', 0.0), ('anticip', 0.0), ('trust', 0.0), ('surprise', 0.0), ('positive', 0.0), ('negative', 0.0), ('sadness', 0.0), ('disgust', 0.0), ('joy', 0.0)]\n",
      "[('fear', 0.0), ('anger', 0.0), ('anticip', 0.0), ('trust', 0.0), ('surprise', 0.0), ('positive', 0.0), ('negative', 0.0), ('sadness', 0.0), ('disgust', 0.0), ('joy', 0.0)]\n",
      "[('positive', 0.2727272727272727)]\n",
      "[('positive', 0.6666666666666666)]\n",
      "[('positive', 0.22580645161290322)]\n",
      "[('fear', 0.0), ('anger', 0.0), ('anticip', 0.0), ('trust', 0.0), ('surprise', 0.0), ('positive', 0.0), ('negative', 0.0), ('sadness', 0.0), ('disgust', 0.0), ('joy', 0.0)]\n",
      "[('fear', 0.0), ('anger', 0.0), ('anticip', 0.0), ('trust', 0.0), ('surprise', 0.0), ('positive', 0.0), ('negative', 0.0), ('sadness', 0.0), ('disgust', 0.0), ('joy', 0.0)]\n",
      "[('trust', 0.5), ('positive', 0.5)]\n",
      "[('trust', 0.4), ('positive', 0.4)]\n",
      "[('trust', 0.3333333333333333), ('positive', 0.3333333333333333), ('negative', 0.3333333333333333)]\n",
      "[('fear', 0.0), ('anger', 0.0), ('anticip', 0.0), ('trust', 0.0), ('surprise', 0.0), ('positive', 0.0), ('negative', 0.0), ('sadness', 0.0), ('disgust', 0.0), ('joy', 0.0)]\n",
      "[('positive', 0.375)]\n",
      "[('trust', 0.5), ('positive', 0.5)]\n",
      "[('fear', 0.3333333333333333), ('trust', 0.3333333333333333), ('positive', 0.3333333333333333)]\n",
      "[('negative', 0.5)]\n",
      "[('negative', 0.5)]\n",
      "[('fear', 0.25), ('anger', 0.25)]\n",
      "[('anger', 0.5), ('negative', 0.5)]\n",
      "[('positive', 1.0)]\n",
      "[('negative', 0.5)]\n",
      "[('fear', 0.0), ('anger', 0.0), ('anticip', 0.0), ('trust', 0.0), ('surprise', 0.0), ('positive', 0.0), ('negative', 0.0), ('sadness', 0.0), ('disgust', 0.0), ('joy', 0.0)]\n",
      "[('trust', 0.22727272727272727)]\n",
      "[('positive', 0.3333333333333333)]\n",
      "[('fear', 0.0), ('anger', 0.0), ('anticip', 0.0), ('trust', 0.0), ('surprise', 0.0), ('positive', 0.0), ('negative', 0.0), ('sadness', 0.0), ('disgust', 0.0), ('joy', 0.0)]\n",
      "[('fear', 0.0), ('anger', 0.0), ('anticip', 0.0), ('trust', 0.0), ('surprise', 0.0), ('positive', 0.0), ('negative', 0.0), ('sadness', 0.0), ('disgust', 0.0), ('joy', 0.0)]\n",
      "[('fear', 0.0), ('anger', 0.0), ('anticip', 0.0), ('trust', 0.0), ('surprise', 0.0), ('positive', 0.0), ('negative', 0.0), ('sadness', 0.0), ('disgust', 0.0), ('joy', 0.0)]\n",
      "[('negative', 1.0)]\n",
      "[('fear', 0.0), ('anger', 0.0), ('anticip', 0.0), ('trust', 0.0), ('surprise', 0.0), ('positive', 0.0), ('negative', 0.0), ('sadness', 0.0), ('disgust', 0.0), ('joy', 0.0)]\n",
      "[('fear', 0.0), ('anger', 0.0), ('anticip', 0.0), ('trust', 0.0), ('surprise', 0.0), ('positive', 0.0), ('negative', 0.0), ('sadness', 0.0), ('disgust', 0.0), ('joy', 0.0)]\n",
      "[('negative', 0.4)]\n",
      "[('positive', 1.0)]\n",
      "[('positive', 0.1875), ('joy', 0.1875)]\n",
      "[('fear', 0.0), ('anger', 0.0), ('anticip', 0.0), ('trust', 0.0), ('surprise', 0.0), ('positive', 0.0), ('negative', 0.0), ('sadness', 0.0), ('disgust', 0.0), ('joy', 0.0)]\n",
      "[('positive', 0.4166666666666667)]\n",
      "[('positive', 0.2857142857142857), ('negative', 0.2857142857142857)]\n",
      "[('fear', 0.0), ('anger', 0.0), ('anticip', 0.0), ('trust', 0.0), ('surprise', 0.0), ('positive', 0.0), ('negative', 0.0), ('sadness', 0.0), ('disgust', 0.0), ('joy', 0.0)]\n",
      "[('fear', 0.0), ('anger', 0.0), ('anticip', 0.0), ('trust', 0.0), ('surprise', 0.0), ('positive', 0.0), ('negative', 0.0), ('sadness', 0.0), ('disgust', 0.0), ('joy', 0.0)]\n",
      "[('trust', 0.25), ('positive', 0.25), ('joy', 0.25), ('anticipation', 0.25)]\n",
      "[('fear', 0.0), ('anger', 0.0), ('anticip', 0.0), ('trust', 0.0), ('surprise', 0.0), ('positive', 0.0), ('negative', 0.0), ('sadness', 0.0), ('disgust', 0.0), ('joy', 0.0)]\n",
      "[('fear', 0.0), ('anger', 0.0), ('anticip', 0.0), ('trust', 0.0), ('surprise', 0.0), ('positive', 0.0), ('negative', 0.0), ('sadness', 0.0), ('disgust', 0.0), ('joy', 0.0)]\n",
      "[('fear', 0.0), ('anger', 0.0), ('anticip', 0.0), ('trust', 0.0), ('surprise', 0.0), ('positive', 0.0), ('negative', 0.0), ('sadness', 0.0), ('disgust', 0.0), ('joy', 0.0)]\n",
      "[('fear', 0.0), ('anger', 0.0), ('anticip', 0.0), ('trust', 0.0), ('surprise', 0.0), ('positive', 0.0), ('negative', 0.0), ('sadness', 0.0), ('disgust', 0.0), ('joy', 0.0)]\n",
      "[('positive', 0.5), ('joy', 0.5)]\n",
      "[('positive', 0.20689655172413793)]\n",
      "[('negative', 0.5), ('sadness', 0.5)]\n",
      "[('fear', 0.0), ('anger', 0.0), ('anticip', 0.0), ('trust', 0.0), ('surprise', 0.0), ('positive', 0.0), ('negative', 0.0), ('sadness', 0.0), ('disgust', 0.0), ('joy', 0.0)]\n",
      "[('positive', 0.3333333333333333)]\n",
      "[('positive', 0.5), ('anticipation', 0.5)]\n",
      "[('positive', 0.5), ('joy', 0.5)]\n",
      "[('fear', 0.0), ('anger', 0.0), ('anticip', 0.0), ('trust', 0.0), ('surprise', 0.0), ('positive', 0.0), ('negative', 0.0), ('sadness', 0.0), ('disgust', 0.0), ('joy', 0.0)]\n",
      "[('trust', 0.25), ('positive', 0.25), ('joy', 0.25), ('anticipation', 0.25)]\n",
      "[('fear', 0.0), ('anger', 0.0), ('anticip', 0.0), ('trust', 0.0), ('surprise', 0.0), ('positive', 0.0), ('negative', 0.0), ('sadness', 0.0), ('disgust', 0.0), ('joy', 0.0)]\n",
      "[('positive', 0.2777777777777778)]\n",
      "[('negative', 0.3125)]\n",
      "[('positive', 0.25), ('joy', 0.25)]\n",
      "[('negative', 1.0)]\n",
      "[('trust', 0.3333333333333333), ('positive', 0.3333333333333333), ('negative', 0.3333333333333333)]\n",
      "[('fear', 0.0), ('anger', 0.0), ('anticip', 0.0), ('trust', 0.0), ('surprise', 0.0), ('positive', 0.0), ('negative', 0.0), ('sadness', 0.0), ('disgust', 0.0), ('joy', 0.0)]\n",
      "[('fear', 0.0), ('anger', 0.0), ('anticip', 0.0), ('trust', 0.0), ('surprise', 0.0), ('positive', 0.0), ('negative', 0.0), ('sadness', 0.0), ('disgust', 0.0), ('joy', 0.0)]\n",
      "[('fear', 0.0), ('anger', 0.0), ('anticip', 0.0), ('trust', 0.0), ('surprise', 0.0), ('positive', 0.0), ('negative', 0.0), ('sadness', 0.0), ('disgust', 0.0), ('joy', 0.0)]\n",
      "[('positive', 0.16666666666666666), ('negative', 0.16666666666666666), ('joy', 0.16666666666666666)]\n",
      "[('negative', 0.2222222222222222), ('sadness', 0.2222222222222222)]\n",
      "[('fear', 0.0), ('anger', 0.0), ('anticip', 0.0), ('trust', 0.0), ('surprise', 0.0), ('positive', 0.0), ('negative', 0.0), ('sadness', 0.0), ('disgust', 0.0), ('joy', 0.0)]\n",
      "[('fear', 0.0), ('anger', 0.0), ('anticip', 0.0), ('trust', 0.0), ('surprise', 0.0), ('positive', 0.0), ('negative', 0.0), ('sadness', 0.0), ('disgust', 0.0), ('joy', 0.0)]\n",
      "[('trust', 0.5), ('positive', 0.5)]\n",
      "[('fear', 0.0), ('anger', 0.0), ('anticip', 0.0), ('trust', 0.0), ('surprise', 0.0), ('positive', 0.0), ('negative', 0.0), ('sadness', 0.0), ('disgust', 0.0), ('joy', 0.0)]\n",
      "[('fear', 0.0), ('anger', 0.0), ('anticip', 0.0), ('trust', 0.0), ('surprise', 0.0), ('positive', 0.0), ('negative', 0.0), ('sadness', 0.0), ('disgust', 0.0), ('joy', 0.0)]\n",
      "[('fear', 0.0), ('anger', 0.0), ('anticip', 0.0), ('trust', 0.0), ('surprise', 0.0), ('positive', 0.0), ('negative', 0.0), ('sadness', 0.0), ('disgust', 0.0), ('joy', 0.0)]\n",
      "[('fear', 0.0), ('anger', 0.0), ('anticip', 0.0), ('trust', 0.0), ('surprise', 0.0), ('positive', 0.0), ('negative', 0.0), ('sadness', 0.0), ('disgust', 0.0), ('joy', 0.0)]\n",
      "[('fear', 0.0), ('anger', 0.0), ('anticip', 0.0), ('trust', 0.0), ('surprise', 0.0), ('positive', 0.0), ('negative', 0.0), ('sadness', 0.0), ('disgust', 0.0), ('joy', 0.0)]\n",
      "[('fear', 0.0), ('anger', 0.0), ('anticip', 0.0), ('trust', 0.0), ('surprise', 0.0), ('positive', 0.0), ('negative', 0.0), ('sadness', 0.0), ('disgust', 0.0), ('joy', 0.0)]\n",
      "[('anger', 0.3333333333333333), ('negative', 0.3333333333333333), ('disgust', 0.3333333333333333)]\n",
      "[('negative', 0.3333333333333333), ('sadness', 0.3333333333333333), ('disgust', 0.3333333333333333)]\n",
      "[('fear', 0.3333333333333333), ('surprise', 0.3333333333333333), ('negative', 0.3333333333333333)]\n",
      "[('fear', 0.3333333333333333), ('negative', 0.3333333333333333), ('sadness', 0.3333333333333333)]\n",
      "[('fear', 0.0), ('anger', 0.0), ('anticip', 0.0), ('trust', 0.0), ('surprise', 0.0), ('positive', 0.0), ('negative', 0.0), ('sadness', 0.0), ('disgust', 0.0), ('joy', 0.0)]\n",
      "[('fear', 0.0), ('anger', 0.0), ('anticip', 0.0), ('trust', 0.0), ('surprise', 0.0), ('positive', 0.0), ('negative', 0.0), ('sadness', 0.0), ('disgust', 0.0), ('joy', 0.0)]\n",
      "[('fear', 0.25), ('negative', 0.25), ('sadness', 0.25)]\n",
      "[('negative', 0.3333333333333333)]\n",
      "[('fear', 0.0), ('anger', 0.0), ('anticip', 0.0), ('trust', 0.0), ('surprise', 0.0), ('positive', 0.0), ('negative', 0.0), ('sadness', 0.0), ('disgust', 0.0), ('joy', 0.0)]\n",
      "[('fear', 0.0), ('anger', 0.0), ('anticip', 0.0), ('trust', 0.0), ('surprise', 0.0), ('positive', 0.0), ('negative', 0.0), ('sadness', 0.0), ('disgust', 0.0), ('joy', 0.0)]\n",
      "[('positive', 1.0)]\n",
      "[('sadness', 1.0)]\n",
      "[('trust', 0.3333333333333333), ('positive', 0.3333333333333333), ('negative', 0.3333333333333333)]\n",
      "[('positive', 0.3333333333333333)]\n",
      "[('surprise', 0.2), ('positive', 0.2), ('sadness', 0.2), ('joy', 0.2), ('anticipation', 0.2)]\n",
      "[('positive', 0.2777777777777778)]\n",
      "[('fear', 0.0), ('anger', 0.0), ('anticip', 0.0), ('trust', 0.0), ('surprise', 0.0), ('positive', 0.0), ('negative', 0.0), ('sadness', 0.0), ('disgust', 0.0), ('joy', 0.0)]\n",
      "[('positive', 1.0)]\n",
      "[('fear', 0.0), ('anger', 0.0), ('anticip', 0.0), ('trust', 0.0), ('surprise', 0.0), ('positive', 0.0), ('negative', 0.0), ('sadness', 0.0), ('disgust', 0.0), ('joy', 0.0)]\n",
      "[('fear', 0.0), ('anger', 0.0), ('anticip', 0.0), ('trust', 0.0), ('surprise', 0.0), ('positive', 0.0), ('negative', 0.0), ('sadness', 0.0), ('disgust', 0.0), ('joy', 0.0)]\n",
      "[('fear', 0.0), ('anger', 0.0), ('anticip', 0.0), ('trust', 0.0), ('surprise', 0.0), ('positive', 0.0), ('negative', 0.0), ('sadness', 0.0), ('disgust', 0.0), ('joy', 0.0)]\n",
      "[('fear', 0.0), ('anger', 0.0), ('anticip', 0.0), ('trust', 0.0), ('surprise', 0.0), ('positive', 0.0), ('negative', 0.0), ('sadness', 0.0), ('disgust', 0.0), ('joy', 0.0)]\n",
      "[('trust', 0.3333333333333333), ('positive', 0.3333333333333333), ('joy', 0.3333333333333333)]\n",
      "[('fear', 0.2), ('positive', 0.2), ('negative', 0.2), ('sadness', 0.2)]\n",
      "[('fear', 0.14285714285714285), ('anger', 0.14285714285714285), ('surprise', 0.14285714285714285), ('positive', 0.14285714285714285), ('sadness', 0.14285714285714285), ('joy', 0.14285714285714285), ('anticipation', 0.14285714285714285)]\n",
      "[('trust', 0.25), ('positive', 0.25), ('joy', 0.25), ('anticipation', 0.25)]\n",
      "[('trust', 0.2), ('surprise', 0.2), ('positive', 0.2), ('joy', 0.2), ('anticipation', 0.2)]\n",
      "[('positive', 1.0)]\n",
      "[('negative', 0.21739130434782608)]\n",
      "[('fear', 0.23076923076923078), ('negative', 0.23076923076923078)]\n",
      "[('trust', 0.2857142857142857), ('positive', 0.2857142857142857)]\n",
      "[('positive', 0.21739130434782608)]\n",
      "[('fear', 0.0), ('anger', 0.0), ('anticip', 0.0), ('trust', 0.0), ('surprise', 0.0), ('positive', 0.0), ('negative', 0.0), ('sadness', 0.0), ('disgust', 0.0), ('joy', 0.0)]\n",
      "[('fear', 0.25), ('trust', 0.25), ('positive', 0.25), ('sadness', 0.25)]\n",
      "[('anticipation', 1.0)]\n",
      "[('positive', 0.3333333333333333)]\n",
      "[('positive', 0.25)]\n",
      "[('fear', 0.0), ('anger', 0.0), ('anticip', 0.0), ('trust', 0.0), ('surprise', 0.0), ('positive', 0.0), ('negative', 0.0), ('sadness', 0.0), ('disgust', 0.0), ('joy', 0.0)]\n",
      "[('trust', 0.25), ('positive', 0.25), ('negative', 0.25), ('disgust', 0.25)]\n",
      "[('trust', 0.2857142857142857), ('positive', 0.2857142857142857)]\n",
      "[('fear', 0.0), ('anger', 0.0), ('anticip', 0.0), ('trust', 0.0), ('surprise', 0.0), ('positive', 0.0), ('negative', 0.0), ('sadness', 0.0), ('disgust', 0.0), ('joy', 0.0)]\n",
      "[('anger', 0.125), ('surprise', 0.125), ('positive', 0.125), ('negative', 0.125), ('sadness', 0.125), ('disgust', 0.125), ('joy', 0.125), ('anticipation', 0.125)]\n",
      "[('trust', 0.16666666666666666), ('positive', 0.16666666666666666)]\n",
      "[('anger', 0.1111111111111111), ('trust', 0.1111111111111111), ('surprise', 0.1111111111111111), ('positive', 0.1111111111111111), ('negative', 0.1111111111111111), ('sadness', 0.1111111111111111), ('disgust', 0.1111111111111111), ('joy', 0.1111111111111111), ('anticipation', 0.1111111111111111)]\n",
      "[('trust', 0.14285714285714285), ('surprise', 0.14285714285714285), ('positive', 0.14285714285714285), ('negative', 0.14285714285714285), ('disgust', 0.14285714285714285), ('joy', 0.14285714285714285), ('anticipation', 0.14285714285714285)]\n",
      "[('surprise', 0.2), ('positive', 0.2), ('sadness', 0.2), ('joy', 0.2), ('anticipation', 0.2)]\n",
      "[('positive', 0.3333333333333333), ('anticipation', 0.3333333333333333)]\n",
      "[('positive', 0.17307692307692307)]\n",
      "[('fear', 0.0), ('anger', 0.0), ('anticip', 0.0), ('trust', 0.0), ('surprise', 0.0), ('positive', 0.0), ('negative', 0.0), ('sadness', 0.0), ('disgust', 0.0), ('joy', 0.0)]\n",
      "[('fear', 0.0), ('anger', 0.0), ('anticip', 0.0), ('trust', 0.0), ('surprise', 0.0), ('positive', 0.0), ('negative', 0.0), ('sadness', 0.0), ('disgust', 0.0), ('joy', 0.0)]\n",
      "[('positive', 1.0)]\n",
      "[('fear', 0.0), ('anger', 0.0), ('anticip', 0.0), ('trust', 0.0), ('surprise', 0.0), ('positive', 0.0), ('negative', 0.0), ('sadness', 0.0), ('disgust', 0.0), ('joy', 0.0)]\n",
      "[('fear', 0.0), ('anger', 0.0), ('anticip', 0.0), ('trust', 0.0), ('surprise', 0.0), ('positive', 0.0), ('negative', 0.0), ('sadness', 0.0), ('disgust', 0.0), ('joy', 0.0)]\n",
      "[('fear', 0.0), ('anger', 0.0), ('anticip', 0.0), ('trust', 0.0), ('surprise', 0.0), ('positive', 0.0), ('negative', 0.0), ('sadness', 0.0), ('disgust', 0.0), ('joy', 0.0)]\n",
      "[('fear', 0.0), ('anger', 0.0), ('anticip', 0.0), ('trust', 0.0), ('surprise', 0.0), ('positive', 0.0), ('negative', 0.0), ('sadness', 0.0), ('disgust', 0.0), ('joy', 0.0)]\n",
      "[('negative', 0.5), ('sadness', 0.5)]\n",
      "[('fear', 0.0), ('anger', 0.0), ('anticip', 0.0), ('trust', 0.0), ('surprise', 0.0), ('positive', 0.0), ('negative', 0.0), ('sadness', 0.0), ('disgust', 0.0), ('joy', 0.0)]\n",
      "[('positive', 0.6666666666666666)]\n",
      "[('positive', 0.5)]\n",
      "[('anger', 0.3333333333333333), ('positive', 0.3333333333333333), ('negative', 0.3333333333333333)]\n",
      "[('fear', 0.2222222222222222), ('negative', 0.2222222222222222)]\n",
      "[('fear', 0.0), ('anger', 0.0), ('anticip', 0.0), ('trust', 0.0), ('surprise', 0.0), ('positive', 0.0), ('negative', 0.0), ('sadness', 0.0), ('disgust', 0.0), ('joy', 0.0)]\n",
      "[('positive', 1.0)]\n",
      "[('anger', 0.5), ('negative', 0.5)]\n",
      "[('fear', 0.0), ('anger', 0.0), ('anticip', 0.0), ('trust', 0.0), ('surprise', 0.0), ('positive', 0.0), ('negative', 0.0), ('sadness', 0.0), ('disgust', 0.0), ('joy', 0.0)]\n",
      "[('anger', 0.2857142857142857), ('negative', 0.2857142857142857)]\n",
      "[('fear', 0.1), ('anger', 0.1), ('trust', 0.1), ('surprise', 0.1), ('positive', 0.1), ('negative', 0.1), ('sadness', 0.1), ('disgust', 0.1), ('joy', 0.1), ('anticipation', 0.1)]\n",
      "[('negative', 0.3076923076923077)]\n"
     ]
    },
    {
     "name": "stdout",
     "output_type": "stream",
     "text": [
      "[('fear', 0.0), ('anger', 0.0), ('anticip', 0.0), ('trust', 0.0), ('surprise', 0.0), ('positive', 0.0), ('negative', 0.0), ('sadness', 0.0), ('disgust', 0.0), ('joy', 0.0)]\n",
      "[('fear', 0.3333333333333333), ('anger', 0.3333333333333333), ('negative', 0.3333333333333333)]\n",
      "[('negative', 0.42857142857142855)]\n",
      "[('anger', 0.3333333333333333), ('negative', 0.3333333333333333), ('sadness', 0.3333333333333333)]\n",
      "[('fear', 0.3333333333333333), ('negative', 0.3333333333333333), ('sadness', 0.3333333333333333)]\n",
      "[('fear', 0.2), ('trust', 0.2), ('positive', 0.2), ('negative', 0.2), ('sadness', 0.2)]\n",
      "[('trust', 0.2222222222222222), ('negative', 0.2222222222222222), ('disgust', 0.2222222222222222)]\n",
      "[('fear', 0.0), ('anger', 0.0), ('anticip', 0.0), ('trust', 0.0), ('surprise', 0.0), ('positive', 0.0), ('negative', 0.0), ('sadness', 0.0), ('disgust', 0.0), ('joy', 0.0)]\n",
      "[('negative', 0.3)]\n",
      "[('trust', 0.5), ('positive', 0.5)]\n",
      "[('fear', 0.0), ('anger', 0.0), ('anticip', 0.0), ('trust', 0.0), ('surprise', 0.0), ('positive', 0.0), ('negative', 0.0), ('sadness', 0.0), ('disgust', 0.0), ('joy', 0.0)]\n",
      "[('fear', 0.20689655172413793)]\n",
      "[('trust', 0.5), ('positive', 0.5)]\n",
      "[('fear', 0.0), ('anger', 0.0), ('anticip', 0.0), ('trust', 0.0), ('surprise', 0.0), ('positive', 0.0), ('negative', 0.0), ('sadness', 0.0), ('disgust', 0.0), ('joy', 0.0)]\n",
      "[('positive', 0.30434782608695654)]\n",
      "[('negative', 0.26666666666666666)]\n",
      "[('anger', 0.25), ('negative', 0.25)]\n",
      "[('positive', 0.3333333333333333)]\n",
      "[('trust', 0.25), ('positive', 0.25), ('joy', 0.25)]\n",
      "[('positive', 1.0)]\n",
      "[('surprise', 0.5), ('negative', 0.5)]\n",
      "[('fear', 0.2), ('positive', 0.2), ('negative', 0.2), ('sadness', 0.2), ('disgust', 0.2)]\n",
      "[('fear', 0.3333333333333333), ('trust', 0.3333333333333333), ('positive', 0.3333333333333333)]\n",
      "[('fear', 0.2), ('trust', 0.2), ('positive', 0.2)]\n",
      "[('trust', 0.5), ('anticipation', 0.5)]\n",
      "[('fear', 0.0), ('anger', 0.0), ('anticip', 0.0), ('trust', 0.0), ('surprise', 0.0), ('positive', 0.0), ('negative', 0.0), ('sadness', 0.0), ('disgust', 0.0), ('joy', 0.0)]\n",
      "[('trust', 0.15384615384615385)]\n",
      "[('anger', 0.25), ('negative', 0.25), ('sadness', 0.25), ('disgust', 0.25)]\n",
      "[('fear', 0.0), ('anger', 0.0), ('anticip', 0.0), ('trust', 0.0), ('surprise', 0.0), ('positive', 0.0), ('negative', 0.0), ('sadness', 0.0), ('disgust', 0.0), ('joy', 0.0)]\n",
      "[('positive', 0.3333333333333333)]\n",
      "[('positive', 0.1875), ('anticipation', 0.1875)]\n",
      "[('fear', 0.0), ('anger', 0.0), ('anticip', 0.0), ('trust', 0.0), ('surprise', 0.0), ('positive', 0.0), ('negative', 0.0), ('sadness', 0.0), ('disgust', 0.0), ('joy', 0.0)]\n",
      "[('trust', 0.3333333333333333), ('positive', 0.3333333333333333), ('joy', 0.3333333333333333)]\n",
      "[('fear', 0.0), ('anger', 0.0), ('anticip', 0.0), ('trust', 0.0), ('surprise', 0.0), ('positive', 0.0), ('negative', 0.0), ('sadness', 0.0), ('disgust', 0.0), ('joy', 0.0)]\n",
      "[('positive', 0.4)]\n",
      "[('positive', 0.42857142857142855)]\n",
      "[('trust', 0.6666666666666666)]\n",
      "[('anger', 0.5), ('negative', 0.5)]\n",
      "[('fear', 0.0), ('anger', 0.0), ('anticip', 0.0), ('trust', 0.0), ('surprise', 0.0), ('positive', 0.0), ('negative', 0.0), ('sadness', 0.0), ('disgust', 0.0), ('joy', 0.0)]\n",
      "[('trust', 0.2857142857142857), ('positive', 0.2857142857142857)]\n",
      "[('fear', 1.0)]\n",
      "[('trust', 0.3333333333333333), ('positive', 0.3333333333333333)]\n",
      "[('positive', 0.21739130434782608), ('joy', 0.21739130434782608)]\n",
      "[('positive', 0.2777777777777778)]\n",
      "[('trust', 0.15384615384615385), ('surprise', 0.15384615384615385), ('positive', 0.15384615384615385), ('joy', 0.15384615384615385), ('anticipation', 0.15384615384615385)]\n",
      "[('trust', 0.23529411764705882), ('positive', 0.23529411764705882)]\n"
     ]
    }
   ],
   "source": [
    "from nrclex import NRCLex\n",
    "import pandas as pd\n",
    "data = pd.read_csv(\"data.csv\", names=['Character', \"Sentence\"])\n",
    "\n",
    "lst3 = []\n",
    "for i in range(len(data)):\n",
    "    text_object = NRCLex(data[\"Sentence\"][i])\n",
    "    result = text_object.top_emotions\n",
    "    print(result)\n",
    "    temp = []\n",
    "    for j in range(len(result)):\n",
    "        if result[j][1]>0.0:\n",
    "            temp.append(result[j][0])\n",
    "    lst3.append(', '.join(temp))"
   ]
  },
  {
   "cell_type": "code",
   "execution_count": 36,
   "id": "547d5016",
   "metadata": {
    "scrolled": true
   },
   "outputs": [
    {
     "data": {
      "text/plain": [
       "['',\n",
       " '',\n",
       " 'trust, positive',\n",
       " 'trust, positive',\n",
       " 'fear, trust, positive',\n",
       " 'fear',\n",
       " 'fear, anger, negative, disgust, anticipation',\n",
       " '',\n",
       " 'trust',\n",
       " 'trust',\n",
       " 'positive',\n",
       " 'trust',\n",
       " 'trust, surprise, positive, sadness, joy, anticipation',\n",
       " 'trust, negative',\n",
       " '',\n",
       " 'surprise, positive, sadness, joy, anticipation',\n",
       " 'positive',\n",
       " 'negative',\n",
       " 'surprise, positive, negative, sadness, joy',\n",
       " '']"
      ]
     },
     "execution_count": 36,
     "metadata": {},
     "output_type": "execute_result"
    }
   ],
   "source": [
    "lst3[:20]"
   ]
  },
  {
   "cell_type": "code",
   "execution_count": 37,
   "id": "d24d6e8c",
   "metadata": {
    "scrolled": false
   },
   "outputs": [
    {
     "data": {
      "text/plain": [
       "552"
      ]
     },
     "execution_count": 37,
     "metadata": {},
     "output_type": "execute_result"
    }
   ],
   "source": [
    "len(lst)"
   ]
  },
  {
   "cell_type": "code",
   "execution_count": 38,
   "id": "3e5e89e1",
   "metadata": {},
   "outputs": [
    {
     "data": {
      "text/plain": [
       "552"
      ]
     },
     "execution_count": 38,
     "metadata": {},
     "output_type": "execute_result"
    }
   ],
   "source": [
    "len(data)"
   ]
  },
  {
   "cell_type": "code",
   "execution_count": 39,
   "id": "4832374b",
   "metadata": {},
   "outputs": [],
   "source": [
    "data[\"Sentiment\"] = lst"
   ]
  },
  {
   "cell_type": "code",
   "execution_count": 40,
   "id": "da97bb95",
   "metadata": {},
   "outputs": [],
   "source": [
    "data[\"Valence_Score\"] = lst2"
   ]
  },
  {
   "cell_type": "code",
   "execution_count": 41,
   "id": "0b03e9bd",
   "metadata": {},
   "outputs": [],
   "source": [
    "data[\"Emotions\"] = lst3"
   ]
  },
  {
   "cell_type": "code",
   "execution_count": 42,
   "id": "6b301761",
   "metadata": {
    "scrolled": true
   },
   "outputs": [
    {
     "data": {
      "text/html": [
       "<div>\n",
       "<style scoped>\n",
       "    .dataframe tbody tr th:only-of-type {\n",
       "        vertical-align: middle;\n",
       "    }\n",
       "\n",
       "    .dataframe tbody tr th {\n",
       "        vertical-align: top;\n",
       "    }\n",
       "\n",
       "    .dataframe thead th {\n",
       "        text-align: right;\n",
       "    }\n",
       "</style>\n",
       "<table border=\"1\" class=\"dataframe\">\n",
       "  <thead>\n",
       "    <tr style=\"text-align: right;\">\n",
       "      <th></th>\n",
       "      <th>Character</th>\n",
       "      <th>Sentence</th>\n",
       "      <th>Sentiment</th>\n",
       "      <th>Valence_Score</th>\n",
       "      <th>Emotions</th>\n",
       "    </tr>\n",
       "  </thead>\n",
       "  <tbody>\n",
       "    <tr>\n",
       "      <th>0</th>\n",
       "      <td>Character</td>\n",
       "      <td>Sentence</td>\n",
       "      <td>neutral</td>\n",
       "      <td>0.000000</td>\n",
       "      <td></td>\n",
       "    </tr>\n",
       "    <tr>\n",
       "      <th>1</th>\n",
       "      <td>CAESAR</td>\n",
       "      <td>by William ShakespeareDramatis Personae</td>\n",
       "      <td>neutral</td>\n",
       "      <td>0.000000</td>\n",
       "      <td></td>\n",
       "    </tr>\n",
       "    <tr>\n",
       "      <th>2</th>\n",
       "      <td>CAESAR</td>\n",
       "      <td>, Roman statesman and general</td>\n",
       "      <td>positive</td>\n",
       "      <td>0.050000</td>\n",
       "      <td>trust, positive</td>\n",
       "    </tr>\n",
       "    <tr>\n",
       "      <th>3</th>\n",
       "      <td>ANTONY</td>\n",
       "      <td>, general and friend of Caesar, a Triumvir aft...</td>\n",
       "      <td>positive</td>\n",
       "      <td>0.050000</td>\n",
       "      <td>trust, positive</td>\n",
       "    </tr>\n",
       "    <tr>\n",
       "      <th>4</th>\n",
       "      <td>BRUTUS</td>\n",
       "      <td>, leader of the conspiracy against Caesar</td>\n",
       "      <td>neutral</td>\n",
       "      <td>0.000000</td>\n",
       "      <td>fear, trust, positive</td>\n",
       "    </tr>\n",
       "    <tr>\n",
       "      <th>...</th>\n",
       "      <td>...</td>\n",
       "      <td>...</td>\n",
       "      <td>...</td>\n",
       "      <td>...</td>\n",
       "      <td>...</td>\n",
       "    </tr>\n",
       "    <tr>\n",
       "      <th>547</th>\n",
       "      <td>BRUTUS</td>\n",
       "      <td>. Nay I am sure it is, Volumnius.Thou seest th...</td>\n",
       "      <td>positive</td>\n",
       "      <td>0.292593</td>\n",
       "      <td>trust, positive</td>\n",
       "    </tr>\n",
       "    <tr>\n",
       "      <th>548</th>\n",
       "      <td>BRUTUS</td>\n",
       "      <td>. Farewell to you, and you, and you, Volumnius...</td>\n",
       "      <td>positive</td>\n",
       "      <td>0.360417</td>\n",
       "      <td>positive, joy</td>\n",
       "    </tr>\n",
       "    <tr>\n",
       "      <th>549</th>\n",
       "      <td>BRUTUS</td>\n",
       "      <td>. Hence! I will follow.Exeunt Clitus, Dardaniu...</td>\n",
       "      <td>positive</td>\n",
       "      <td>0.175000</td>\n",
       "      <td>positive</td>\n",
       "    </tr>\n",
       "    <tr>\n",
       "      <th>550</th>\n",
       "      <td>BRUTUS</td>\n",
       "      <td>. Farewell, good Strato.Runs on his sword.Caes...</td>\n",
       "      <td>positive</td>\n",
       "      <td>0.102778</td>\n",
       "      <td>trust, surprise, positive, joy, anticipation</td>\n",
       "    </tr>\n",
       "    <tr>\n",
       "      <th>551</th>\n",
       "      <td>ANTONY</td>\n",
       "      <td>. This was the noblest Roman of them all.All t...</td>\n",
       "      <td>positive</td>\n",
       "      <td>0.131250</td>\n",
       "      <td>trust, positive</td>\n",
       "    </tr>\n",
       "  </tbody>\n",
       "</table>\n",
       "<p>552 rows × 5 columns</p>\n",
       "</div>"
      ],
      "text/plain": [
       "     Character                                           Sentence Sentiment  \\\n",
       "0    Character                                           Sentence   neutral   \n",
       "1       CAESAR            by William ShakespeareDramatis Personae   neutral   \n",
       "2       CAESAR                      , Roman statesman and general  positive   \n",
       "3       ANTONY  , general and friend of Caesar, a Triumvir aft...  positive   \n",
       "4       BRUTUS          , leader of the conspiracy against Caesar   neutral   \n",
       "..         ...                                                ...       ...   \n",
       "547     BRUTUS  . Nay I am sure it is, Volumnius.Thou seest th...  positive   \n",
       "548     BRUTUS  . Farewell to you, and you, and you, Volumnius...  positive   \n",
       "549     BRUTUS  . Hence! I will follow.Exeunt Clitus, Dardaniu...  positive   \n",
       "550     BRUTUS  . Farewell, good Strato.Runs on his sword.Caes...  positive   \n",
       "551     ANTONY  . This was the noblest Roman of them all.All t...  positive   \n",
       "\n",
       "     Valence_Score                                      Emotions  \n",
       "0         0.000000                                                \n",
       "1         0.000000                                                \n",
       "2         0.050000                               trust, positive  \n",
       "3         0.050000                               trust, positive  \n",
       "4         0.000000                         fear, trust, positive  \n",
       "..             ...                                           ...  \n",
       "547       0.292593                               trust, positive  \n",
       "548       0.360417                                 positive, joy  \n",
       "549       0.175000                                      positive  \n",
       "550       0.102778  trust, surprise, positive, joy, anticipation  \n",
       "551       0.131250                               trust, positive  \n",
       "\n",
       "[552 rows x 5 columns]"
      ]
     },
     "execution_count": 42,
     "metadata": {},
     "output_type": "execute_result"
    }
   ],
   "source": [
    "data"
   ]
  },
  {
   "cell_type": "code",
   "execution_count": 43,
   "id": "4d8a327b",
   "metadata": {},
   "outputs": [],
   "source": [
    "data.to_csv(\"Done.csv\", index=False)"
   ]
  },
  {
   "cell_type": "markdown",
   "id": "84a108e8",
   "metadata": {},
   "source": [
    "# Valence score"
   ]
  },
  {
   "cell_type": "markdown",
   "id": "93c69669",
   "metadata": {},
   "source": [
    "https://blog.quantinsti.com/vader-sentiment/"
   ]
  },
  {
   "cell_type": "markdown",
   "id": "514bab16",
   "metadata": {},
   "source": [
    "# Plot"
   ]
  },
  {
   "cell_type": "markdown",
   "id": "5d00cd5c",
   "metadata": {},
   "source": [
    "## This graphs will tell you about the emotions of the person throughout the play.\n",
    "- means what is the role and behaviour of the person throughout the play.\n",
    "- is he/she talking angryly or happyly like that you can analyze from this."
   ]
  },
  {
   "cell_type": "code",
   "execution_count": 44,
   "id": "5cb90fa6",
   "metadata": {},
   "outputs": [
    {
     "data": {
      "image/png": "[encoded data removed]",
      "text/plain": [
       "<Figure size 720x1440 with 8 Axes>"
      ]
     },
     "metadata": {
      "needs_background": "light"
     },
     "output_type": "display_data"
    }
   ],
   "source": [
    "import matplotlib.pyplot as plt\n",
    "plt.figure(figsize=(10,20))\n",
    "for i in range(len(characters)):\n",
    "    plt.subplot(4,2,i+1)\n",
    "    plt.plot(data[data['Character']==characters[i]]['Valence_Score'])\n",
    "    plt.title(characters[i])\n",
    "    plt.ylabel('sentiment')\n",
    "    plt.xlabel('duration')\n",
    "    plt.subplots_adjust(wspace=0.4, hspace=0.4)"
   ]
  }
 ],
 "metadata": {
  "kernelspec": {
   "display_name": "Python 3 (ipykernel)",
   "language": "python",
   "name": "python3"
  },
  "language_info": {
   "codemirror_mode": {
    "name": "ipython",
    "version": 3
   },
   "file_extension": ".py",
   "mimetype": "text/x-python",
   "name": "python",
   "nbconvert_exporter": "python",
   "pygments_lexer": "ipython3",
   "version": "3.10.4"
  }
 },
 "nbformat": 4,
 "nbformat_minor": 5
}
